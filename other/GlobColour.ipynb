{
 "cells": [
  {
   "cell_type": "code",
   "execution_count": 1,
   "id": "a0e81564",
   "metadata": {},
   "outputs": [],
   "source": [
    "# !pip install netCDF4\n",
    "import netCDF4 as nc\n",
    "import xarray as xr\n",
    "import pandas as pd\n",
    "import time\n",
    "from ftplib import FTP\n",
    "import os\n",
    "from datetime import datetime\n",
    "import csv"
   ]
  },
  {
   "cell_type": "code",
   "execution_count": 2,
   "id": "f616fb13",
   "metadata": {},
   "outputs": [],
   "source": [
    "# variable_dict = {\n",
    "#     \"aerosol_optical_thickness_over_water\":\"__GLOB_RESOLUTION_AVW-MODVIR_T865_DAY_00\",\n",
    "#     \"aerosol_optical_thickness_over_water+land\":\"__GLOB_RESOLUTION_AVW-MODVIR_T550_DAY_00\",\n",
    "#     \"cloud_fraction \":\"__GLOB_RESOLUTION_AV-MODVIR_CF_DAY_00\",\n",
    "#     \"depth_of_the_bottom_of_the_euphotic_layer\":\"__GLOB_RESOLUTION_AVW-MODVIROLAVJ1OLB_ZEU_DAY_00\",\n",
    "#     \"secchi_disk_depth\":\"__GLOB_RESOLUTION_AVW-MODVIR_ZSD-DORON_DAY\",\n",
    "#     \"heated_layer_depth\":\"__GLOB_RESOLUTION_AVW-MODVIR*_ZHL_DAY_00\",\n",
    "#     \"particulate_backscattering_coefficient\":\"__GLOB_RESOLUTION_GSM-MODVIR_BBP_DAY_00\",\n",
    "#     \"coloured_dissolved_detrital_organic_materials_absorption_coefficient\":\"__GLOB_RESOLUTION_GSM-MODVIR_CDM_DAY_00\",\n",
    "#     \"diffuse_attenuation_coefficient\":\"__GLOB_RESOLUTION_AVW-MODVIR_KD490-LEE_DAY_00\",\n",
    "#     \"relative_excess_of_radiance\":\"__GLOB_RESOLUTION_AVW-MODVIR_EL555_DAY_00\",\n",
    "#     \"normalised_remote_sensing_reflectance\":\"__GLOB_RESOLUTION_AVW-MODVIR_NRRS490_DAY_00\",\n",
    "#     \"normalised_fluorescence_line_height\":\"__GLOB_RESOLUTION_AV-MOD_NFLH_DAY_00\",\n",
    "#     \"particulate_organic_carbon\":\"__GLOB_RESOLUTION_AVW-MODVIR_POC_DAY_00\",\n",
    "#     \"particulate_inorganic_carbon\":\"__GLOB_RESOLUTION_AVW-MODVIR_PIC_DAY_00\",\n",
    "#     \"inorganic_suspended_particulate_matter_concentration\":\"__GLOB_RESOLUTION_AVW-MODVIROLAVJ1OLB_SPM-OC5_DAY_00\",\n",
    "#     \"photosynthetically_available_radiation\":\"__GLOB_RESOLUTION_AVW-MODVIR_PAR_DAY_00\"\n",
    "    \n",
    "# }\n",
    "\n",
    "# variable dictionary\n",
    "reader = csv.DictReader(open('C:/Users/javi2/Documents/CD_aplicada_1/COBI/other/variable_dict.csv'))\n",
    "variable_dict = {}\n",
    "\n",
    "for row in reader:\n",
    "    variable_dict[row['variable']] = row['file_format']\n",
    "\n",
    "# # Ver qué pez con las variables de entorno\n",
    "# directory_to = os.environ.get(\"PATH_SIMAR\")\n",
    "\n",
    "# credentials = [os.environ.get(\"GLOBCOLOUR_USER\"), os.environ.get('GLOBCOLOUR_PWD')]\n",
    "                                         \n",
    "# Ver qué pez con las variables de entorno\n",
    "directory_to = \"C:\\\\Users\\\\javi2\\\\Documents\\\\CD_aplicada_1\\\\COBI\\\\data\\\\simar\\\\raw\\\\\"\n",
    "\n",
    "credentials = ['ftp_gc_JOrcazas_Leal', 'JOrcazas_Leal_6463']"
   ]
  },
  {
   "cell_type": "code",
   "execution_count": null,
   "id": "4b5c3396",
   "metadata": {},
   "outputs": [],
   "source": []
  },
  {
   "cell_type": "code",
   "execution_count": null,
   "id": "e7994207",
   "metadata": {},
   "outputs": [],
   "source": []
  },
  {
   "cell_type": "code",
   "execution_count": 3,
   "id": "42f2af8b",
   "metadata": {},
   "outputs": [],
   "source": [
    "def download_raw(variable, directory_to, resolution, credentials, variable_dict, year_from):\n",
    "    \n",
    "    years = list(range(year_from, datetime.now().year+1))\n",
    "    months = [\"01\",\"02\",\"03\",\"04\",\"05\",\"06\",\"07\",\"08\",\"09\",\"10\",\"11\",\"12\"]\n",
    "    days = [\"01\",\"02\",\"03\",\"04\",\"05\",\"06\",\"07\",\"08\",\"09\",\"10\",\"11\",\"12\", \"13\",\"14\",\"15\",\n",
    "            \"16\",\"17\",\"18\",\"19\",\"20\",\"21\",\"22\",\"23\",\"24\",\"25\",\"26\",\"27\",\"28\",\"29\",\"30\",\"31\"]\n",
    "\n",
    "    user = credentials[0] \n",
    "    password = credentials[1] \n",
    "\n",
    "    directory_path = directory_to + variable\n",
    "    if not os.path.isdir(directory_path):\n",
    "        os.mkdir(directory_path)\n",
    "    \n",
    "    os.chdir(directory_path) #changes the active dir - this is where downloaded files will be saved to\n",
    "    \n",
    "    \n",
    "    filematch = 'L3m_*'+variable_dict[variable].replace(\"RESOLUTION\", resolution)+'.nc' # a match for any file in this case, can be changed or left for user to input\n",
    "    \n",
    "    not_loaded = []\n",
    "    \n",
    "    for year in years:\n",
    "        for month in months:\n",
    "            for day in days:\n",
    "                try:                    \n",
    "                    download_dir =\"GLOB/merged/day/\"+str(year)+\"/\"+month+\"/\"+day+\"/\" #dir i want to download files from, can be changed or left for user input\n",
    "                    ftp = FTP(\"ftp.hermes.acri.fr\")\n",
    "                    ftp.login(user,password)\n",
    "                    \n",
    "                    ftp.cwd(download_dir)\n",
    "                    for filename in ftp.nlst(filematch): # Loop - looking for matching files\n",
    "                        if not os.path.exists(filename):\n",
    "                            fhandle = open(filename, 'wb')\n",
    "        #                     print('Getting ' + filename) #for confort sake, shows the file that's being retrieved\n",
    "                            ftp.retrbinary('RETR ' + filename, fhandle.write)\n",
    "                            fhandle.close()\n",
    "                        \n",
    "                    ftp.quit()\n",
    "                except Exception as e:\n",
    "                    not_loaded.append((year, month, day, e))\n",
    "                    print(\"error in variable\", variable,\":\", e, str(year)+str(month)+str(day))\n",
    "\n",
    "    return not_loaded"
   ]
  },
  {
   "cell_type": "code",
   "execution_count": null,
   "id": "c772e2f4",
   "metadata": {},
   "outputs": [],
   "source": []
  },
  {
   "cell_type": "code",
   "execution_count": null,
   "id": "b976a631",
   "metadata": {
    "scrolled": true
   },
   "outputs": [],
   "source": [
    "results = {}\n",
    "for v in variable_dict.keys():\n",
    "    results[v] = download_raw(v, directory_to, \"100\", credentials, variable_dict, 2017)"
   ]
  },
  {
   "cell_type": "markdown",
   "id": "596eefc2",
   "metadata": {},
   "source": [
    "Volver a correr estas o revisar: \n",
    "\n",
    "\"depth_of_the_bottom_of_the_euphotic_layer\":\"__GLOB_RESOLUTION_AVW-MODVIROLAVJ1OLB_ZEU_DAY_00\",\n",
    "\n",
    "\"secchi_disk_depth\":\"__GLOB_RESOLUTION_AVW-MODVIR_ZSD-DORON_DAY\",\n",
    "\n",
    "\"heated_layer_depth\":\"__GLOB_RESOLUTION_AVW-MODVIROLAVJ1OLB_ZHL_DAY_00\",\n",
    "\n",
    "\"inorganic_suspended_particulate_matter_concentration\":\"__GLOB_RESOLUTION_AVW-MODVIROLAVJ1OLB_SPM-OC5_DAY_00\"\n",
    "\n",
    "    "
   ]
  },
  {
   "cell_type": "code",
   "execution_count": 5,
   "id": "578550f4",
   "metadata": {},
   "outputs": [
    {
     "data": {
      "text/plain": [
       "Index(['anio', 'mes', 'dia', 'hora', 'minuto', 'segundo', 'id_estacion',\n",
       "       'voltaje_sistema', 'nivel_mar_leveltrol', 'nivel_mar_burbujeador',\n",
       "       'sw_1', 'sw_2', 'temperatura_agua', 'nivel_mar_ott_rsl',\n",
       "       'radiacion_solar', 'direccion_viento', 'magnitud_viento',\n",
       "       'temperatura_aire', 'humedad_relativa', 'presion_atmosferica',\n",
       "       'precipitacion', 'voltaje_estacion_met', 'nivel_mar_sutron'],\n",
       "      dtype='object')"
      ]
     },
     "execution_count": 5,
     "metadata": {},
     "output_type": "execute_result"
    }
   ],
   "source": [
    "import requests\n",
    "import os\n",
    "import pandas as pd\n",
    "import time\n",
    "import glob\n",
    "from datetime import datetime\n",
    "\n",
    "def read_cicese_data(place):\n",
    "    columns=[\"anio\",\"mes\",\"dia\",\"hora\",\"minuto\",\"segundo\",\n",
    "             \"id_estacion\",\"voltaje_sistema\",\"nivel_mar_leveltrol\",\"nivel_mar_burbujeador\",\n",
    "             \"sw_1\",\"sw_2\",\"temperatura_agua\",\"nivel_mar_ott_rsl\", \"radiacion_solar\",\n",
    "             \"direccion_viento\", \"magnitud_viento\", \"temperatura_aire\",\"humedad_relativa\",\n",
    "             \"presion_atmosferica\",\"precipitacion\",\"voltaje_estacion_met\",\"nivel_mar_sutron\"]\n",
    "    # Set the directory path\n",
    "    dir_path = 'data/'+place\n",
    "    \n",
    "    # Get a list of all .dat files in the directory\n",
    "    dat_files = glob.glob(os.path.join(dir_path, \"*.dat\"))\n",
    "\n",
    "    # Initialize an empty list to store the dataframes\n",
    "    dfs = []\n",
    "\n",
    "    # Loop through each file and read it into a dataframe\n",
    "    for file in dat_files:\n",
    "        df = pd.read_csv(file, lineterminator='\\n', delim_whitespace=True, header=None)\n",
    "        dfs.append(df)\n",
    "\n",
    "    # Concatenate all the dataframes into a single dataframe\n",
    "    result_df = pd.concat(dfs, axis=0, ignore_index=True)\n",
    "    \n",
    "    # Rename df columns with the ones defined before\n",
    "    dict_columns = {}\n",
    "    for col, i in zip(columns, range(len(columns))):\n",
    "        dict_columns[i] = col\n",
    "    dict_columns\n",
    "    result_df = result_df.rename(columns=dict_columns)\n",
    "\n",
    "    \n",
    "    return result_df\n",
    "\n",
    "\n",
    "df = read_cicese_data(\"isla_cedros\")\n"
   ]
  },
  {
   "cell_type": "code",
   "execution_count": 6,
   "id": "e5794b9b",
   "metadata": {},
   "outputs": [
    {
     "data": {
      "text/plain": [
       "Index(['anio', 'mes', 'dia', 'hora', 'minuto', 'segundo', 'id_estacion',\n",
       "       'voltaje_sistema', 'nivel_mar_leveltrol', 'nivel_mar_burbujeador',\n",
       "       'sw_1', 'sw_2', 'temperatura_agua', 'nivel_mar_ott_rsl',\n",
       "       'radiacion_solar', 'direccion_viento', 'magnitud_viento',\n",
       "       'temperatura_aire', 'humedad_relativa', 'presion_atmosferica',\n",
       "       'precipitacion', 'voltaje_estacion_met', 'nivel_mar_sutron'],\n",
       "      dtype='object')"
      ]
     },
     "execution_count": 6,
     "metadata": {},
     "output_type": "execute_result"
    }
   ],
   "source": [
    "df.columns"
   ]
  }
 ],
 "metadata": {
  "kernelspec": {
   "display_name": "Python 3 (ipykernel)",
   "language": "python",
   "name": "python3"
  },
  "language_info": {
   "codemirror_mode": {
    "name": "ipython",
    "version": 3
   },
   "file_extension": ".py",
   "mimetype": "text/x-python",
   "name": "python",
   "nbconvert_exporter": "python",
   "pygments_lexer": "ipython3",
   "version": "3.9.13"
  }
 },
 "nbformat": 4,
 "nbformat_minor": 5
}

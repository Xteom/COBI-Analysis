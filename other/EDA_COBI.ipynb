{
 "cells": [
  {
   "cell_type": "code",
   "execution_count": 51,
   "id": "9e43a8b8",
   "metadata": {},
   "outputs": [],
   "source": [
    "import pandas as pd \n",
    "import numpy as np\n",
    "import matplotlib.pyplot as plt\n",
    "from pandas.api.types import is_numeric_dtype\n",
    "import plotly.express as px\n",
    "import seaborn as sn\n",
    "import time\n",
    "import os\n",
    "# !pip install -U kaleido"
   ]
  },
  {
   "cell_type": "code",
   "execution_count": 3,
   "id": "fe094f29",
   "metadata": {},
   "outputs": [],
   "source": [
    "data = pd.read_csv('data/arribos_bcs.csv', encoding=\"latin1\")"
   ]
  },
  {
   "cell_type": "code",
   "execution_count": 32,
   "id": "9bd5baa7",
   "metadata": {},
   "outputs": [],
   "source": [
    "def time_elapsed(function, *args):\n",
    "    start = time.perf_counter()\n",
    "    function(*args)\n",
    "    end = time.perf_counter()\n",
    "    print(f\"Time elapsed: {end - start:0.4f} seconds\")"
   ]
  },
  {
   "cell_type": "code",
   "execution_count": 5,
   "id": "8ed871c2",
   "metadata": {},
   "outputs": [],
   "source": [
    "def cleansing(df):\n",
    "    aux = df.copy()\n",
    "    # Drop duplicates\n",
    "    aux.drop_duplicates(inplace=True)\n",
    "    \n",
    "    # Column name standarization\n",
    "    aux.columns = aux.columns.str.strip() # Leading and trailing\n",
    "    aux.columns = aux.columns.str.lower()\n",
    "    aux.columns = aux.columns.str.replace(\" \", \"_\")\n",
    "    aux.columns\n",
    "    for c in aux.columns:\n",
    "        aux[c] = aux[c].replace(\",\", \"\")\n",
    "\n",
    "\n",
    "    # Change to numeric and to datetime when needed\n",
    "    l_num = [\"peso_vivo\", \"peso_desembarcado\", \"precio\", \"valor\"]\n",
    "    l_date = [\"fecha_aviso\", \"fecha_expedicion\", \"fecha_vigencia\", \"periodo_inicio\", \"periodo_fin\"] # ¡revisar fechas en otro formato!\n",
    "    for col in l_num:\n",
    "        aux[col] = pd.to_numeric(aux[col].str.replace(\",\",\"\"))\n",
    "    for col in l_date:\n",
    "        aux[col] = pd.to_datetime(aux[col], infer_datetime_format=True, errors='coerce')\n",
    "\n",
    "    # Add month, year and year_month as columns\n",
    "    aux[\"month\"] = aux.periodo_fin.dt.month\n",
    "    aux[\"year\"] = aux.periodo_fin.dt.year\n",
    "\n",
    "    aux[\"year_month\"] = aux.apply(lambda x: str(x[\"year\"]).replace(\".0\",\"\") + \"-\" + str(x[\"month\"]).replace(\".0\",\"\")\n",
    "                                  if (x[\"month\"] != np.nan) and (x[\"year\"] != np.nan)\n",
    "                                  else np.nan, axis=1)\n",
    "\n",
    "    return aux"
   ]
  },
  {
   "cell_type": "code",
   "execution_count": 7,
   "id": "57e428e6",
   "metadata": {},
   "outputs": [],
   "source": [
    "df = cleansing(data)"
   ]
  },
  {
   "cell_type": "code",
   "execution_count": null,
   "id": "3ab16f9c",
   "metadata": {},
   "outputs": [],
   "source": []
  },
  {
   "cell_type": "code",
   "execution_count": 39,
   "id": "544074c5",
   "metadata": {},
   "outputs": [],
   "source": [
    "def viz_distribution(df):\n",
    "    if not os.path.exists('viz/distribution'):\n",
    "        os.mkdir('viz/distribution')\n",
    "    # Histograms and bar plots for numeric variables\n",
    "    interq_range = [.25,.75]\n",
    "    for col in list(df.columns):\n",
    "        if is_numeric_dtype(df[col]):\n",
    "            qs = [np.quantile(df[col], interq_range[0]), np.quantile(df[col], interq_range[1])]\n",
    "            dist = np.quantile(df[col], interq_range[0]) - np.quantile(df[col], interq_range[1])\n",
    "            fences = [qs[0] - (1.5*dist), qs[1] + (1.5*dist)]\n",
    "            aux = df[(df[col] > qs[0]) & (df[col] < qs[1])]\n",
    "            if is_numeric_dtype(aux[col]):\n",
    "                fig = px.histogram(aux, x=col, title=\"Distribución de \"+col)\n",
    "                fig.write_image(\"viz/distribution/\"+col+\"_histogram.png\") \n",
    "                fig = px.box(aux, y=col, title=\"Distribución de \"+col+\" sin outliers\")\n",
    "                fig.write_image(\"viz/distribution/\"+col+\"_box_plot_wo_outliers.png\") \n",
    "                fig = px.box(df, y=col, title=\"Distribución de \"+col+\" con outliers\")\n",
    "                fig.write_image(\"viz/distribution/\"+col+\"_box_plot_w_outliers.png\") "
   ]
  },
  {
   "cell_type": "code",
   "execution_count": 58,
   "id": "23c3c87b",
   "metadata": {},
   "outputs": [],
   "source": [
    "def viz_time_series(df, cycle=\"year_month\", date_column=\"periodo_fin\", from_=\"2010\", to_=\"2023\", y=\"peso_desembarcado\"):\n",
    "    if not os.path.exists('viz/time_series'):\n",
    "        os.mkdir('viz/time_series')\n",
    "    cycle = cycle\n",
    "    date_column = date_column\n",
    "    aux = df.copy()\n",
    "    mediana = aux[y].median()\n",
    "\n",
    "    aux = aux[(aux[fecha] > from_) & (aux[fecha] <= to_)]\n",
    "    aux = aux[aux[y] < mediana]\n",
    "\n",
    "    aux = aux.groupby(cycle).mean()[y]\n",
    "    aux = pd.DataFrame(aux).reset_index()\n",
    "    \n",
    "    # Time series: y as a function of time\n",
    "    fig = px.bar(aux, x=cycle, y=y, \n",
    "                 title=\"Promedio de \"+ y +\" por \"+cycle,\n",
    "                 labels={cycle:\"Fecha\", y:\"Promedio de peso (kg)\"})\n",
    "    fig.update_yaxes(range = [60,110])\n",
    "\n",
    "    fig.write_image(\"viz/time_series/\"+y+\"_time_series_\"+cycle+\".png\") \n"
   ]
  },
  {
   "cell_type": "code",
   "execution_count": 80,
   "id": "49b7f631",
   "metadata": {},
   "outputs": [],
   "source": [
    "# PENDIENTE\n",
    "# Exploration of categories\n",
    "def viz_categories(df, category=\"especie\"):\n",
    "    if not os.path.exists('viz/categories'):\n",
    "        os.mkdir('viz/categories')\n",
    "\n",
    "    # Análisis por nombre (debemos verificar que cada especie diferente registrada es única, mientras usaremos el nombre para agrupar):\n",
    "    aux = df\n",
    "    aux.drop(aux[aux[\"year_month\"] == \"nan-nan\"].index, inplace = True)\n",
    "    aux.anio_mes_fin = pd.to_datetime(aux.year_month)\n",
    "    aux = aux[(aux[fecha] > '2010') & (aux[fecha] <= '2023')]\n",
    "\n",
    "    aux = aux.groupby([\"year_month\", \"nombre_principal\"]).mean()[\"peso_desembarcado\"]\n",
    "    aux = pd.DataFrame(aux).reset_index().sort_values(\"nombre_principal\").sort_values(\"year_month\")\n",
    "\n",
    "    l_nombre_principal = sorted(set(aux.nombre_principal))\n",
    "\n",
    "    fig = px.line(aux, x=\"year_month\", y=\"peso_desembarcado\", color='nombre_principal', \n",
    "                 category_orders={\"nombre_principal\": l_nombre_principal},\n",
    "                 title=\"Promedio de pesos desembarcados por especie\",\n",
    "                 labels={\"peso_desembarcado\":\"Promedio peso desembarcado (kg)\", \"year_month\":\"Fecha\"})\n",
    "    fig.write_image(\"viz/categories/por_\"+category+\".png\") \n",
    "    \n",
    "    # Comentaios: Incluso con sólo 50 nombres el análisis temporal por especie se satura, debemos encontrar otra manera de \n",
    "    # analizar cada especie\n"
   ]
  },
  {
   "cell_type": "code",
   "execution_count": null,
   "id": "484a7c4c",
   "metadata": {},
   "outputs": [],
   "source": []
  },
  {
   "cell_type": "code",
   "execution_count": 75,
   "id": "650e30ba",
   "metadata": {},
   "outputs": [
    {
     "name": "stdout",
     "output_type": "stream",
     "text": [
      "               nombre_lugarcaptura nombre_sitio_desembarque  \\\n",
      "27221                     ENSENADA                 ENSENADA   \n",
      "31991  SAN ISIDRO (EJIDO ERENDIRA)        PUERTO SAN ISIDRO   \n",
      "50045                   LA CHORERA              BAHIA FALSA   \n",
      "50547                   LA CHORERA              BAHIA FALSA   \n",
      "69183                  PUNTA CABRA              SAN QUINTIN   \n",
      "...                            ...                      ...   \n",
      "95319                    EL MUERTO               SAN FELIPE   \n",
      "95332                    EL MUERTO               SAN FELIPE   \n",
      "95333               PUNTA ESTRELLA     MUELLE DE SAN FELIPE   \n",
      "95739               PUNTA ESTRELLA     MUELLE DE SAN FELIPE   \n",
      "95950               PUNTA ESTRELLA     MUELLE DE SAN FELIPE   \n",
      "\n",
      "       numero_embarcaciones  \n",
      "27221                     0  \n",
      "31991                    12  \n",
      "50045                     0  \n",
      "50547                     0  \n",
      "69183                     0  \n",
      "...                     ...  \n",
      "95319                    18  \n",
      "95332                    18  \n",
      "95333                    20  \n",
      "95739                    20  \n",
      "95950                    16  \n",
      "\n",
      "[70 rows x 3 columns]\n",
      "['EL MUERTO', 'EL SANJON', 'ENSENADA', 'ISLA ENCANTADA (CENTRO)', 'LA CHORERA', 'PUERTECITOS', 'PUNTA CABRA', 'PUNTA ESTRELLA', 'SAN ISIDRO (EJIDO ERENDIRA)', 'SAN LUIS GONZAGA', 'ZONA COLORADITO']\n"
     ]
    },
    {
     "name": "stderr",
     "output_type": "stream",
     "text": [
      "C:\\Users\\javi2\\AppData\\Local\\Temp\\ipykernel_14624\\754606861.py:6: SettingWithCopyWarning:\n",
      "\n",
      "\n",
      "A value is trying to be set on a copy of a slice from a DataFrame\n",
      "\n",
      "See the caveats in the documentation: https://pandas.pydata.org/pandas-docs/stable/user_guide/indexing.html#returning-a-view-versus-a-copy\n",
      "\n",
      "C:\\Users\\javi2\\AppData\\Local\\Temp\\ipykernel_14624\\754606861.py:7: UserWarning:\n",
      "\n",
      "Pandas doesn't allow columns to be created via a new attribute name - see https://pandas.pydata.org/pandas-docs/stable/indexing.html#attribute-access\n",
      "\n"
     ]
    },
    {
     "data": {
      "application/vnd.plotly.v1+json": {
       "config": {
        "plotlyServerURL": "https://plot.ly"
       },
       "data": [
        {
         "hovertemplate": "nombre_principal=ALGAS<br>Fecha=%{x}<br>Promedio peso desembarcado (kg)=%{y}<extra></extra>",
         "legendgroup": "ALGAS",
         "line": {
          "color": "#636efa",
          "dash": "solid"
         },
         "marker": {
          "symbol": "circle"
         },
         "mode": "lines",
         "name": "ALGAS",
         "orientation": "v",
         "showlegend": true,
         "type": "scatter",
         "x": [
          "2019-12",
          "2020-11",
          "2020-8"
         ],
         "xaxis": "x",
         "y": [
          94000,
          68000,
          52000
         ],
         "yaxis": "y"
        },
        {
         "hovertemplate": "nombre_principal=BERRUGATA<br>Fecha=%{x}<br>Promedio peso desembarcado (kg)=%{y}<extra></extra>",
         "legendgroup": "BERRUGATA",
         "line": {
          "color": "#EF553B",
          "dash": "solid"
         },
         "marker": {
          "symbol": "circle"
         },
         "mode": "lines",
         "name": "BERRUGATA",
         "orientation": "v",
         "showlegend": true,
         "type": "scatter",
         "x": [
          "2018-11",
          "2018-7",
          "2019-11",
          "2019-12",
          "2019-2",
          "2019-3",
          "2019-4",
          "2019-6",
          "2019-8",
          "2019-9",
          "2020-12",
          "2020-7",
          "2021-10",
          "2021-11",
          "2021-8",
          "2021-9"
         ],
         "xaxis": "x",
         "y": [
          45000,
          38500,
          48000,
          32300,
          34216.666666666664,
          60500,
          42250,
          52000,
          42000,
          43650,
          33500,
          59500,
          47358,
          45240,
          51300,
          35025
         ],
         "yaxis": "y"
        },
        {
         "hovertemplate": "nombre_principal=CORVINA<br>Fecha=%{x}<br>Promedio peso desembarcado (kg)=%{y}<extra></extra>",
         "legendgroup": "CORVINA",
         "line": {
          "color": "#00cc96",
          "dash": "solid"
         },
         "marker": {
          "symbol": "circle"
         },
         "mode": "lines",
         "name": "CORVINA",
         "orientation": "v",
         "showlegend": true,
         "type": "scatter",
         "x": [
          "2016-8",
          "2017-10",
          "2017-11",
          "2017-7",
          "2017-8",
          "2017-9",
          "2018-12",
          "2018-2",
          "2019-1",
          "2019-2",
          "2021-2"
         ],
         "xaxis": "x",
         "y": [
          40000,
          51975.333333333336,
          79894,
          56000,
          62123.25,
          53255.333333333336,
          35180,
          54150,
          67011.5,
          51000,
          46000
         ],
         "yaxis": "y"
        },
        {
         "hovertemplate": "nombre_principal=OTRAS<br>Fecha=%{x}<br>Promedio peso desembarcado (kg)=%{y}<extra></extra>",
         "legendgroup": "OTRAS",
         "line": {
          "color": "#ab63fa",
          "dash": "solid"
         },
         "marker": {
          "symbol": "circle"
         },
         "mode": "lines",
         "name": "OTRAS",
         "orientation": "v",
         "showlegend": true,
         "type": "scatter",
         "x": [
          "2017-5",
          "2018-9"
         ],
         "xaxis": "x",
         "y": [
          30000,
          60000
         ],
         "yaxis": "y"
        },
        {
         "hovertemplate": "nombre_principal=SARGAZO<br>Fecha=%{x}<br>Promedio peso desembarcado (kg)=%{y}<extra></extra>",
         "legendgroup": "SARGAZO",
         "line": {
          "color": "#FFA15A",
          "dash": "solid"
         },
         "marker": {
          "symbol": "circle"
         },
         "mode": "lines",
         "name": "SARGAZO",
         "orientation": "v",
         "showlegend": true,
         "type": "scatter",
         "x": [
          "2017-5",
          "2018-5"
         ],
         "xaxis": "x",
         "y": [
          74200,
          92000
         ],
         "yaxis": "y"
        },
        {
         "hovertemplate": "nombre_principal=SIERRA<br>Fecha=%{x}<br>Promedio peso desembarcado (kg)=%{y}<extra></extra>",
         "legendgroup": "SIERRA",
         "line": {
          "color": "#19d3f3",
          "dash": "solid"
         },
         "marker": {
          "symbol": "circle"
         },
         "mode": "lines",
         "name": "SIERRA",
         "orientation": "v",
         "showlegend": true,
         "type": "scatter",
         "x": [
          "2017-10",
          "2017-11",
          "2017-4",
          "2017-5",
          "2017-8",
          "2018-1",
          "2018-11",
          "2019-3",
          "2019-8",
          "2020-7"
         ],
         "xaxis": "x",
         "y": [
          45700,
          39950,
          36122.5,
          30077,
          48750,
          35650,
          36500,
          40018,
          31615,
          40500
         ],
         "yaxis": "y"
        }
       ],
       "layout": {
        "legend": {
         "title": {
          "text": "nombre_principal"
         },
         "tracegroupgap": 0
        },
        "template": {
         "data": {
          "bar": [
           {
            "error_x": {
             "color": "#2a3f5f"
            },
            "error_y": {
             "color": "#2a3f5f"
            },
            "marker": {
             "line": {
              "color": "#E5ECF6",
              "width": 0.5
             },
             "pattern": {
              "fillmode": "overlay",
              "size": 10,
              "solidity": 0.2
             }
            },
            "type": "bar"
           }
          ],
          "barpolar": [
           {
            "marker": {
             "line": {
              "color": "#E5ECF6",
              "width": 0.5
             },
             "pattern": {
              "fillmode": "overlay",
              "size": 10,
              "solidity": 0.2
             }
            },
            "type": "barpolar"
           }
          ],
          "carpet": [
           {
            "aaxis": {
             "endlinecolor": "#2a3f5f",
             "gridcolor": "white",
             "linecolor": "white",
             "minorgridcolor": "white",
             "startlinecolor": "#2a3f5f"
            },
            "baxis": {
             "endlinecolor": "#2a3f5f",
             "gridcolor": "white",
             "linecolor": "white",
             "minorgridcolor": "white",
             "startlinecolor": "#2a3f5f"
            },
            "type": "carpet"
           }
          ],
          "choropleth": [
           {
            "colorbar": {
             "outlinewidth": 0,
             "ticks": ""
            },
            "type": "choropleth"
           }
          ],
          "contour": [
           {
            "colorbar": {
             "outlinewidth": 0,
             "ticks": ""
            },
            "colorscale": [
             [
              0,
              "#0d0887"
             ],
             [
              0.1111111111111111,
              "#46039f"
             ],
             [
              0.2222222222222222,
              "#7201a8"
             ],
             [
              0.3333333333333333,
              "#9c179e"
             ],
             [
              0.4444444444444444,
              "#bd3786"
             ],
             [
              0.5555555555555556,
              "#d8576b"
             ],
             [
              0.6666666666666666,
              "#ed7953"
             ],
             [
              0.7777777777777778,
              "#fb9f3a"
             ],
             [
              0.8888888888888888,
              "#fdca26"
             ],
             [
              1,
              "#f0f921"
             ]
            ],
            "type": "contour"
           }
          ],
          "contourcarpet": [
           {
            "colorbar": {
             "outlinewidth": 0,
             "ticks": ""
            },
            "type": "contourcarpet"
           }
          ],
          "heatmap": [
           {
            "colorbar": {
             "outlinewidth": 0,
             "ticks": ""
            },
            "colorscale": [
             [
              0,
              "#0d0887"
             ],
             [
              0.1111111111111111,
              "#46039f"
             ],
             [
              0.2222222222222222,
              "#7201a8"
             ],
             [
              0.3333333333333333,
              "#9c179e"
             ],
             [
              0.4444444444444444,
              "#bd3786"
             ],
             [
              0.5555555555555556,
              "#d8576b"
             ],
             [
              0.6666666666666666,
              "#ed7953"
             ],
             [
              0.7777777777777778,
              "#fb9f3a"
             ],
             [
              0.8888888888888888,
              "#fdca26"
             ],
             [
              1,
              "#f0f921"
             ]
            ],
            "type": "heatmap"
           }
          ],
          "heatmapgl": [
           {
            "colorbar": {
             "outlinewidth": 0,
             "ticks": ""
            },
            "colorscale": [
             [
              0,
              "#0d0887"
             ],
             [
              0.1111111111111111,
              "#46039f"
             ],
             [
              0.2222222222222222,
              "#7201a8"
             ],
             [
              0.3333333333333333,
              "#9c179e"
             ],
             [
              0.4444444444444444,
              "#bd3786"
             ],
             [
              0.5555555555555556,
              "#d8576b"
             ],
             [
              0.6666666666666666,
              "#ed7953"
             ],
             [
              0.7777777777777778,
              "#fb9f3a"
             ],
             [
              0.8888888888888888,
              "#fdca26"
             ],
             [
              1,
              "#f0f921"
             ]
            ],
            "type": "heatmapgl"
           }
          ],
          "histogram": [
           {
            "marker": {
             "pattern": {
              "fillmode": "overlay",
              "size": 10,
              "solidity": 0.2
             }
            },
            "type": "histogram"
           }
          ],
          "histogram2d": [
           {
            "colorbar": {
             "outlinewidth": 0,
             "ticks": ""
            },
            "colorscale": [
             [
              0,
              "#0d0887"
             ],
             [
              0.1111111111111111,
              "#46039f"
             ],
             [
              0.2222222222222222,
              "#7201a8"
             ],
             [
              0.3333333333333333,
              "#9c179e"
             ],
             [
              0.4444444444444444,
              "#bd3786"
             ],
             [
              0.5555555555555556,
              "#d8576b"
             ],
             [
              0.6666666666666666,
              "#ed7953"
             ],
             [
              0.7777777777777778,
              "#fb9f3a"
             ],
             [
              0.8888888888888888,
              "#fdca26"
             ],
             [
              1,
              "#f0f921"
             ]
            ],
            "type": "histogram2d"
           }
          ],
          "histogram2dcontour": [
           {
            "colorbar": {
             "outlinewidth": 0,
             "ticks": ""
            },
            "colorscale": [
             [
              0,
              "#0d0887"
             ],
             [
              0.1111111111111111,
              "#46039f"
             ],
             [
              0.2222222222222222,
              "#7201a8"
             ],
             [
              0.3333333333333333,
              "#9c179e"
             ],
             [
              0.4444444444444444,
              "#bd3786"
             ],
             [
              0.5555555555555556,
              "#d8576b"
             ],
             [
              0.6666666666666666,
              "#ed7953"
             ],
             [
              0.7777777777777778,
              "#fb9f3a"
             ],
             [
              0.8888888888888888,
              "#fdca26"
             ],
             [
              1,
              "#f0f921"
             ]
            ],
            "type": "histogram2dcontour"
           }
          ],
          "mesh3d": [
           {
            "colorbar": {
             "outlinewidth": 0,
             "ticks": ""
            },
            "type": "mesh3d"
           }
          ],
          "parcoords": [
           {
            "line": {
             "colorbar": {
              "outlinewidth": 0,
              "ticks": ""
             }
            },
            "type": "parcoords"
           }
          ],
          "pie": [
           {
            "automargin": true,
            "type": "pie"
           }
          ],
          "scatter": [
           {
            "fillpattern": {
             "fillmode": "overlay",
             "size": 10,
             "solidity": 0.2
            },
            "type": "scatter"
           }
          ],
          "scatter3d": [
           {
            "line": {
             "colorbar": {
              "outlinewidth": 0,
              "ticks": ""
             }
            },
            "marker": {
             "colorbar": {
              "outlinewidth": 0,
              "ticks": ""
             }
            },
            "type": "scatter3d"
           }
          ],
          "scattercarpet": [
           {
            "marker": {
             "colorbar": {
              "outlinewidth": 0,
              "ticks": ""
             }
            },
            "type": "scattercarpet"
           }
          ],
          "scattergeo": [
           {
            "marker": {
             "colorbar": {
              "outlinewidth": 0,
              "ticks": ""
             }
            },
            "type": "scattergeo"
           }
          ],
          "scattergl": [
           {
            "marker": {
             "colorbar": {
              "outlinewidth": 0,
              "ticks": ""
             }
            },
            "type": "scattergl"
           }
          ],
          "scattermapbox": [
           {
            "marker": {
             "colorbar": {
              "outlinewidth": 0,
              "ticks": ""
             }
            },
            "type": "scattermapbox"
           }
          ],
          "scatterpolar": [
           {
            "marker": {
             "colorbar": {
              "outlinewidth": 0,
              "ticks": ""
             }
            },
            "type": "scatterpolar"
           }
          ],
          "scatterpolargl": [
           {
            "marker": {
             "colorbar": {
              "outlinewidth": 0,
              "ticks": ""
             }
            },
            "type": "scatterpolargl"
           }
          ],
          "scatterternary": [
           {
            "marker": {
             "colorbar": {
              "outlinewidth": 0,
              "ticks": ""
             }
            },
            "type": "scatterternary"
           }
          ],
          "surface": [
           {
            "colorbar": {
             "outlinewidth": 0,
             "ticks": ""
            },
            "colorscale": [
             [
              0,
              "#0d0887"
             ],
             [
              0.1111111111111111,
              "#46039f"
             ],
             [
              0.2222222222222222,
              "#7201a8"
             ],
             [
              0.3333333333333333,
              "#9c179e"
             ],
             [
              0.4444444444444444,
              "#bd3786"
             ],
             [
              0.5555555555555556,
              "#d8576b"
             ],
             [
              0.6666666666666666,
              "#ed7953"
             ],
             [
              0.7777777777777778,
              "#fb9f3a"
             ],
             [
              0.8888888888888888,
              "#fdca26"
             ],
             [
              1,
              "#f0f921"
             ]
            ],
            "type": "surface"
           }
          ],
          "table": [
           {
            "cells": {
             "fill": {
              "color": "#EBF0F8"
             },
             "line": {
              "color": "white"
             }
            },
            "header": {
             "fill": {
              "color": "#C8D4E3"
             },
             "line": {
              "color": "white"
             }
            },
            "type": "table"
           }
          ]
         },
         "layout": {
          "annotationdefaults": {
           "arrowcolor": "#2a3f5f",
           "arrowhead": 0,
           "arrowwidth": 1
          },
          "autotypenumbers": "strict",
          "coloraxis": {
           "colorbar": {
            "outlinewidth": 0,
            "ticks": ""
           }
          },
          "colorscale": {
           "diverging": [
            [
             0,
             "#8e0152"
            ],
            [
             0.1,
             "#c51b7d"
            ],
            [
             0.2,
             "#de77ae"
            ],
            [
             0.3,
             "#f1b6da"
            ],
            [
             0.4,
             "#fde0ef"
            ],
            [
             0.5,
             "#f7f7f7"
            ],
            [
             0.6,
             "#e6f5d0"
            ],
            [
             0.7,
             "#b8e186"
            ],
            [
             0.8,
             "#7fbc41"
            ],
            [
             0.9,
             "#4d9221"
            ],
            [
             1,
             "#276419"
            ]
           ],
           "sequential": [
            [
             0,
             "#0d0887"
            ],
            [
             0.1111111111111111,
             "#46039f"
            ],
            [
             0.2222222222222222,
             "#7201a8"
            ],
            [
             0.3333333333333333,
             "#9c179e"
            ],
            [
             0.4444444444444444,
             "#bd3786"
            ],
            [
             0.5555555555555556,
             "#d8576b"
            ],
            [
             0.6666666666666666,
             "#ed7953"
            ],
            [
             0.7777777777777778,
             "#fb9f3a"
            ],
            [
             0.8888888888888888,
             "#fdca26"
            ],
            [
             1,
             "#f0f921"
            ]
           ],
           "sequentialminus": [
            [
             0,
             "#0d0887"
            ],
            [
             0.1111111111111111,
             "#46039f"
            ],
            [
             0.2222222222222222,
             "#7201a8"
            ],
            [
             0.3333333333333333,
             "#9c179e"
            ],
            [
             0.4444444444444444,
             "#bd3786"
            ],
            [
             0.5555555555555556,
             "#d8576b"
            ],
            [
             0.6666666666666666,
             "#ed7953"
            ],
            [
             0.7777777777777778,
             "#fb9f3a"
            ],
            [
             0.8888888888888888,
             "#fdca26"
            ],
            [
             1,
             "#f0f921"
            ]
           ]
          },
          "colorway": [
           "#636efa",
           "#EF553B",
           "#00cc96",
           "#ab63fa",
           "#FFA15A",
           "#19d3f3",
           "#FF6692",
           "#B6E880",
           "#FF97FF",
           "#FECB52"
          ],
          "font": {
           "color": "#2a3f5f"
          },
          "geo": {
           "bgcolor": "white",
           "lakecolor": "white",
           "landcolor": "#E5ECF6",
           "showlakes": true,
           "showland": true,
           "subunitcolor": "white"
          },
          "hoverlabel": {
           "align": "left"
          },
          "hovermode": "closest",
          "mapbox": {
           "style": "light"
          },
          "paper_bgcolor": "white",
          "plot_bgcolor": "#E5ECF6",
          "polar": {
           "angularaxis": {
            "gridcolor": "white",
            "linecolor": "white",
            "ticks": ""
           },
           "bgcolor": "#E5ECF6",
           "radialaxis": {
            "gridcolor": "white",
            "linecolor": "white",
            "ticks": ""
           }
          },
          "scene": {
           "xaxis": {
            "backgroundcolor": "#E5ECF6",
            "gridcolor": "white",
            "gridwidth": 2,
            "linecolor": "white",
            "showbackground": true,
            "ticks": "",
            "zerolinecolor": "white"
           },
           "yaxis": {
            "backgroundcolor": "#E5ECF6",
            "gridcolor": "white",
            "gridwidth": 2,
            "linecolor": "white",
            "showbackground": true,
            "ticks": "",
            "zerolinecolor": "white"
           },
           "zaxis": {
            "backgroundcolor": "#E5ECF6",
            "gridcolor": "white",
            "gridwidth": 2,
            "linecolor": "white",
            "showbackground": true,
            "ticks": "",
            "zerolinecolor": "white"
           }
          },
          "shapedefaults": {
           "line": {
            "color": "#2a3f5f"
           }
          },
          "ternary": {
           "aaxis": {
            "gridcolor": "white",
            "linecolor": "white",
            "ticks": ""
           },
           "baxis": {
            "gridcolor": "white",
            "linecolor": "white",
            "ticks": ""
           },
           "bgcolor": "#E5ECF6",
           "caxis": {
            "gridcolor": "white",
            "linecolor": "white",
            "ticks": ""
           }
          },
          "title": {
           "x": 0.05
          },
          "xaxis": {
           "automargin": true,
           "gridcolor": "white",
           "linecolor": "white",
           "ticks": "",
           "title": {
            "standoff": 15
           },
           "zerolinecolor": "white",
           "zerolinewidth": 2
          },
          "yaxis": {
           "automargin": true,
           "gridcolor": "white",
           "linecolor": "white",
           "ticks": "",
           "title": {
            "standoff": 15
           },
           "zerolinecolor": "white",
           "zerolinewidth": 2
          }
         }
        },
        "title": {
         "text": "Promedio de pesos desembarcados por especie"
        },
        "xaxis": {
         "anchor": "y",
         "domain": [
          0,
          1
         ],
         "title": {
          "text": "Fecha"
         }
        },
        "yaxis": {
         "anchor": "x",
         "domain": [
          0,
          1
         ],
         "title": {
          "text": "Promedio peso desembarcado (kg)"
         }
        }
       }
      },
      "text/html": [
       "<div>                            <div id=\"5f77e912-de85-4483-87f6-444fbb938115\" class=\"plotly-graph-div\" style=\"height:525px; width:100%;\"></div>            <script type=\"text/javascript\">                require([\"plotly\"], function(Plotly) {                    window.PLOTLYENV=window.PLOTLYENV || {};                                    if (document.getElementById(\"5f77e912-de85-4483-87f6-444fbb938115\")) {                    Plotly.newPlot(                        \"5f77e912-de85-4483-87f6-444fbb938115\",                        [{\"hovertemplate\":\"nombre_principal=ALGAS<br>Fecha=%{x}<br>Promedio peso desembarcado (kg)=%{y}<extra></extra>\",\"legendgroup\":\"ALGAS\",\"line\":{\"color\":\"#636efa\",\"dash\":\"solid\"},\"marker\":{\"symbol\":\"circle\"},\"mode\":\"lines\",\"name\":\"ALGAS\",\"orientation\":\"v\",\"showlegend\":true,\"x\":[\"2019-12\",\"2020-11\",\"2020-8\"],\"xaxis\":\"x\",\"y\":[94000.0,68000.0,52000.0],\"yaxis\":\"y\",\"type\":\"scatter\"},{\"hovertemplate\":\"nombre_principal=BERRUGATA<br>Fecha=%{x}<br>Promedio peso desembarcado (kg)=%{y}<extra></extra>\",\"legendgroup\":\"BERRUGATA\",\"line\":{\"color\":\"#EF553B\",\"dash\":\"solid\"},\"marker\":{\"symbol\":\"circle\"},\"mode\":\"lines\",\"name\":\"BERRUGATA\",\"orientation\":\"v\",\"showlegend\":true,\"x\":[\"2018-11\",\"2018-7\",\"2019-11\",\"2019-12\",\"2019-2\",\"2019-3\",\"2019-4\",\"2019-6\",\"2019-8\",\"2019-9\",\"2020-12\",\"2020-7\",\"2021-10\",\"2021-11\",\"2021-8\",\"2021-9\"],\"xaxis\":\"x\",\"y\":[45000.0,38500.0,48000.0,32300.0,34216.666666666664,60500.0,42250.0,52000.0,42000.0,43650.0,33500.0,59500.0,47358.0,45240.0,51300.0,35025.0],\"yaxis\":\"y\",\"type\":\"scatter\"},{\"hovertemplate\":\"nombre_principal=CORVINA<br>Fecha=%{x}<br>Promedio peso desembarcado (kg)=%{y}<extra></extra>\",\"legendgroup\":\"CORVINA\",\"line\":{\"color\":\"#00cc96\",\"dash\":\"solid\"},\"marker\":{\"symbol\":\"circle\"},\"mode\":\"lines\",\"name\":\"CORVINA\",\"orientation\":\"v\",\"showlegend\":true,\"x\":[\"2016-8\",\"2017-10\",\"2017-11\",\"2017-7\",\"2017-8\",\"2017-9\",\"2018-12\",\"2018-2\",\"2019-1\",\"2019-2\",\"2021-2\"],\"xaxis\":\"x\",\"y\":[40000.0,51975.333333333336,79894.0,56000.0,62123.25,53255.333333333336,35180.0,54150.0,67011.5,51000.0,46000.0],\"yaxis\":\"y\",\"type\":\"scatter\"},{\"hovertemplate\":\"nombre_principal=OTRAS<br>Fecha=%{x}<br>Promedio peso desembarcado (kg)=%{y}<extra></extra>\",\"legendgroup\":\"OTRAS\",\"line\":{\"color\":\"#ab63fa\",\"dash\":\"solid\"},\"marker\":{\"symbol\":\"circle\"},\"mode\":\"lines\",\"name\":\"OTRAS\",\"orientation\":\"v\",\"showlegend\":true,\"x\":[\"2017-5\",\"2018-9\"],\"xaxis\":\"x\",\"y\":[30000.0,60000.0],\"yaxis\":\"y\",\"type\":\"scatter\"},{\"hovertemplate\":\"nombre_principal=SARGAZO<br>Fecha=%{x}<br>Promedio peso desembarcado (kg)=%{y}<extra></extra>\",\"legendgroup\":\"SARGAZO\",\"line\":{\"color\":\"#FFA15A\",\"dash\":\"solid\"},\"marker\":{\"symbol\":\"circle\"},\"mode\":\"lines\",\"name\":\"SARGAZO\",\"orientation\":\"v\",\"showlegend\":true,\"x\":[\"2017-5\",\"2018-5\"],\"xaxis\":\"x\",\"y\":[74200.0,92000.0],\"yaxis\":\"y\",\"type\":\"scatter\"},{\"hovertemplate\":\"nombre_principal=SIERRA<br>Fecha=%{x}<br>Promedio peso desembarcado (kg)=%{y}<extra></extra>\",\"legendgroup\":\"SIERRA\",\"line\":{\"color\":\"#19d3f3\",\"dash\":\"solid\"},\"marker\":{\"symbol\":\"circle\"},\"mode\":\"lines\",\"name\":\"SIERRA\",\"orientation\":\"v\",\"showlegend\":true,\"x\":[\"2017-10\",\"2017-11\",\"2017-4\",\"2017-5\",\"2017-8\",\"2018-1\",\"2018-11\",\"2019-3\",\"2019-8\",\"2020-7\"],\"xaxis\":\"x\",\"y\":[45700.0,39950.0,36122.5,30077.0,48750.0,35650.0,36500.0,40018.0,31615.0,40500.0],\"yaxis\":\"y\",\"type\":\"scatter\"}],                        {\"template\":{\"data\":{\"histogram2dcontour\":[{\"type\":\"histogram2dcontour\",\"colorbar\":{\"outlinewidth\":0,\"ticks\":\"\"},\"colorscale\":[[0.0,\"#0d0887\"],[0.1111111111111111,\"#46039f\"],[0.2222222222222222,\"#7201a8\"],[0.3333333333333333,\"#9c179e\"],[0.4444444444444444,\"#bd3786\"],[0.5555555555555556,\"#d8576b\"],[0.6666666666666666,\"#ed7953\"],[0.7777777777777778,\"#fb9f3a\"],[0.8888888888888888,\"#fdca26\"],[1.0,\"#f0f921\"]]}],\"choropleth\":[{\"type\":\"choropleth\",\"colorbar\":{\"outlinewidth\":0,\"ticks\":\"\"}}],\"histogram2d\":[{\"type\":\"histogram2d\",\"colorbar\":{\"outlinewidth\":0,\"ticks\":\"\"},\"colorscale\":[[0.0,\"#0d0887\"],[0.1111111111111111,\"#46039f\"],[0.2222222222222222,\"#7201a8\"],[0.3333333333333333,\"#9c179e\"],[0.4444444444444444,\"#bd3786\"],[0.5555555555555556,\"#d8576b\"],[0.6666666666666666,\"#ed7953\"],[0.7777777777777778,\"#fb9f3a\"],[0.8888888888888888,\"#fdca26\"],[1.0,\"#f0f921\"]]}],\"heatmap\":[{\"type\":\"heatmap\",\"colorbar\":{\"outlinewidth\":0,\"ticks\":\"\"},\"colorscale\":[[0.0,\"#0d0887\"],[0.1111111111111111,\"#46039f\"],[0.2222222222222222,\"#7201a8\"],[0.3333333333333333,\"#9c179e\"],[0.4444444444444444,\"#bd3786\"],[0.5555555555555556,\"#d8576b\"],[0.6666666666666666,\"#ed7953\"],[0.7777777777777778,\"#fb9f3a\"],[0.8888888888888888,\"#fdca26\"],[1.0,\"#f0f921\"]]}],\"heatmapgl\":[{\"type\":\"heatmapgl\",\"colorbar\":{\"outlinewidth\":0,\"ticks\":\"\"},\"colorscale\":[[0.0,\"#0d0887\"],[0.1111111111111111,\"#46039f\"],[0.2222222222222222,\"#7201a8\"],[0.3333333333333333,\"#9c179e\"],[0.4444444444444444,\"#bd3786\"],[0.5555555555555556,\"#d8576b\"],[0.6666666666666666,\"#ed7953\"],[0.7777777777777778,\"#fb9f3a\"],[0.8888888888888888,\"#fdca26\"],[1.0,\"#f0f921\"]]}],\"contourcarpet\":[{\"type\":\"contourcarpet\",\"colorbar\":{\"outlinewidth\":0,\"ticks\":\"\"}}],\"contour\":[{\"type\":\"contour\",\"colorbar\":{\"outlinewidth\":0,\"ticks\":\"\"},\"colorscale\":[[0.0,\"#0d0887\"],[0.1111111111111111,\"#46039f\"],[0.2222222222222222,\"#7201a8\"],[0.3333333333333333,\"#9c179e\"],[0.4444444444444444,\"#bd3786\"],[0.5555555555555556,\"#d8576b\"],[0.6666666666666666,\"#ed7953\"],[0.7777777777777778,\"#fb9f3a\"],[0.8888888888888888,\"#fdca26\"],[1.0,\"#f0f921\"]]}],\"surface\":[{\"type\":\"surface\",\"colorbar\":{\"outlinewidth\":0,\"ticks\":\"\"},\"colorscale\":[[0.0,\"#0d0887\"],[0.1111111111111111,\"#46039f\"],[0.2222222222222222,\"#7201a8\"],[0.3333333333333333,\"#9c179e\"],[0.4444444444444444,\"#bd3786\"],[0.5555555555555556,\"#d8576b\"],[0.6666666666666666,\"#ed7953\"],[0.7777777777777778,\"#fb9f3a\"],[0.8888888888888888,\"#fdca26\"],[1.0,\"#f0f921\"]]}],\"mesh3d\":[{\"type\":\"mesh3d\",\"colorbar\":{\"outlinewidth\":0,\"ticks\":\"\"}}],\"scatter\":[{\"fillpattern\":{\"fillmode\":\"overlay\",\"size\":10,\"solidity\":0.2},\"type\":\"scatter\"}],\"parcoords\":[{\"type\":\"parcoords\",\"line\":{\"colorbar\":{\"outlinewidth\":0,\"ticks\":\"\"}}}],\"scatterpolargl\":[{\"type\":\"scatterpolargl\",\"marker\":{\"colorbar\":{\"outlinewidth\":0,\"ticks\":\"\"}}}],\"bar\":[{\"error_x\":{\"color\":\"#2a3f5f\"},\"error_y\":{\"color\":\"#2a3f5f\"},\"marker\":{\"line\":{\"color\":\"#E5ECF6\",\"width\":0.5},\"pattern\":{\"fillmode\":\"overlay\",\"size\":10,\"solidity\":0.2}},\"type\":\"bar\"}],\"scattergeo\":[{\"type\":\"scattergeo\",\"marker\":{\"colorbar\":{\"outlinewidth\":0,\"ticks\":\"\"}}}],\"scatterpolar\":[{\"type\":\"scatterpolar\",\"marker\":{\"colorbar\":{\"outlinewidth\":0,\"ticks\":\"\"}}}],\"histogram\":[{\"marker\":{\"pattern\":{\"fillmode\":\"overlay\",\"size\":10,\"solidity\":0.2}},\"type\":\"histogram\"}],\"scattergl\":[{\"type\":\"scattergl\",\"marker\":{\"colorbar\":{\"outlinewidth\":0,\"ticks\":\"\"}}}],\"scatter3d\":[{\"type\":\"scatter3d\",\"line\":{\"colorbar\":{\"outlinewidth\":0,\"ticks\":\"\"}},\"marker\":{\"colorbar\":{\"outlinewidth\":0,\"ticks\":\"\"}}}],\"scattermapbox\":[{\"type\":\"scattermapbox\",\"marker\":{\"colorbar\":{\"outlinewidth\":0,\"ticks\":\"\"}}}],\"scatterternary\":[{\"type\":\"scatterternary\",\"marker\":{\"colorbar\":{\"outlinewidth\":0,\"ticks\":\"\"}}}],\"scattercarpet\":[{\"type\":\"scattercarpet\",\"marker\":{\"colorbar\":{\"outlinewidth\":0,\"ticks\":\"\"}}}],\"carpet\":[{\"aaxis\":{\"endlinecolor\":\"#2a3f5f\",\"gridcolor\":\"white\",\"linecolor\":\"white\",\"minorgridcolor\":\"white\",\"startlinecolor\":\"#2a3f5f\"},\"baxis\":{\"endlinecolor\":\"#2a3f5f\",\"gridcolor\":\"white\",\"linecolor\":\"white\",\"minorgridcolor\":\"white\",\"startlinecolor\":\"#2a3f5f\"},\"type\":\"carpet\"}],\"table\":[{\"cells\":{\"fill\":{\"color\":\"#EBF0F8\"},\"line\":{\"color\":\"white\"}},\"header\":{\"fill\":{\"color\":\"#C8D4E3\"},\"line\":{\"color\":\"white\"}},\"type\":\"table\"}],\"barpolar\":[{\"marker\":{\"line\":{\"color\":\"#E5ECF6\",\"width\":0.5},\"pattern\":{\"fillmode\":\"overlay\",\"size\":10,\"solidity\":0.2}},\"type\":\"barpolar\"}],\"pie\":[{\"automargin\":true,\"type\":\"pie\"}]},\"layout\":{\"autotypenumbers\":\"strict\",\"colorway\":[\"#636efa\",\"#EF553B\",\"#00cc96\",\"#ab63fa\",\"#FFA15A\",\"#19d3f3\",\"#FF6692\",\"#B6E880\",\"#FF97FF\",\"#FECB52\"],\"font\":{\"color\":\"#2a3f5f\"},\"hovermode\":\"closest\",\"hoverlabel\":{\"align\":\"left\"},\"paper_bgcolor\":\"white\",\"plot_bgcolor\":\"#E5ECF6\",\"polar\":{\"bgcolor\":\"#E5ECF6\",\"angularaxis\":{\"gridcolor\":\"white\",\"linecolor\":\"white\",\"ticks\":\"\"},\"radialaxis\":{\"gridcolor\":\"white\",\"linecolor\":\"white\",\"ticks\":\"\"}},\"ternary\":{\"bgcolor\":\"#E5ECF6\",\"aaxis\":{\"gridcolor\":\"white\",\"linecolor\":\"white\",\"ticks\":\"\"},\"baxis\":{\"gridcolor\":\"white\",\"linecolor\":\"white\",\"ticks\":\"\"},\"caxis\":{\"gridcolor\":\"white\",\"linecolor\":\"white\",\"ticks\":\"\"}},\"coloraxis\":{\"colorbar\":{\"outlinewidth\":0,\"ticks\":\"\"}},\"colorscale\":{\"sequential\":[[0.0,\"#0d0887\"],[0.1111111111111111,\"#46039f\"],[0.2222222222222222,\"#7201a8\"],[0.3333333333333333,\"#9c179e\"],[0.4444444444444444,\"#bd3786\"],[0.5555555555555556,\"#d8576b\"],[0.6666666666666666,\"#ed7953\"],[0.7777777777777778,\"#fb9f3a\"],[0.8888888888888888,\"#fdca26\"],[1.0,\"#f0f921\"]],\"sequentialminus\":[[0.0,\"#0d0887\"],[0.1111111111111111,\"#46039f\"],[0.2222222222222222,\"#7201a8\"],[0.3333333333333333,\"#9c179e\"],[0.4444444444444444,\"#bd3786\"],[0.5555555555555556,\"#d8576b\"],[0.6666666666666666,\"#ed7953\"],[0.7777777777777778,\"#fb9f3a\"],[0.8888888888888888,\"#fdca26\"],[1.0,\"#f0f921\"]],\"diverging\":[[0,\"#8e0152\"],[0.1,\"#c51b7d\"],[0.2,\"#de77ae\"],[0.3,\"#f1b6da\"],[0.4,\"#fde0ef\"],[0.5,\"#f7f7f7\"],[0.6,\"#e6f5d0\"],[0.7,\"#b8e186\"],[0.8,\"#7fbc41\"],[0.9,\"#4d9221\"],[1,\"#276419\"]]},\"xaxis\":{\"gridcolor\":\"white\",\"linecolor\":\"white\",\"ticks\":\"\",\"title\":{\"standoff\":15},\"zerolinecolor\":\"white\",\"automargin\":true,\"zerolinewidth\":2},\"yaxis\":{\"gridcolor\":\"white\",\"linecolor\":\"white\",\"ticks\":\"\",\"title\":{\"standoff\":15},\"zerolinecolor\":\"white\",\"automargin\":true,\"zerolinewidth\":2},\"scene\":{\"xaxis\":{\"backgroundcolor\":\"#E5ECF6\",\"gridcolor\":\"white\",\"linecolor\":\"white\",\"showbackground\":true,\"ticks\":\"\",\"zerolinecolor\":\"white\",\"gridwidth\":2},\"yaxis\":{\"backgroundcolor\":\"#E5ECF6\",\"gridcolor\":\"white\",\"linecolor\":\"white\",\"showbackground\":true,\"ticks\":\"\",\"zerolinecolor\":\"white\",\"gridwidth\":2},\"zaxis\":{\"backgroundcolor\":\"#E5ECF6\",\"gridcolor\":\"white\",\"linecolor\":\"white\",\"showbackground\":true,\"ticks\":\"\",\"zerolinecolor\":\"white\",\"gridwidth\":2}},\"shapedefaults\":{\"line\":{\"color\":\"#2a3f5f\"}},\"annotationdefaults\":{\"arrowcolor\":\"#2a3f5f\",\"arrowhead\":0,\"arrowwidth\":1},\"geo\":{\"bgcolor\":\"white\",\"landcolor\":\"#E5ECF6\",\"subunitcolor\":\"white\",\"showland\":true,\"showlakes\":true,\"lakecolor\":\"white\"},\"title\":{\"x\":0.05},\"mapbox\":{\"style\":\"light\"}}},\"xaxis\":{\"anchor\":\"y\",\"domain\":[0.0,1.0],\"title\":{\"text\":\"Fecha\"}},\"yaxis\":{\"anchor\":\"x\",\"domain\":[0.0,1.0],\"title\":{\"text\":\"Promedio peso desembarcado (kg)\"}},\"legend\":{\"title\":{\"text\":\"nombre_principal\"},\"tracegroupgap\":0},\"title\":{\"text\":\"Promedio de pesos desembarcados por especie\"}},                        {\"responsive\": true}                    ).then(function(){\n",
       "                            \n",
       "var gd = document.getElementById('5f77e912-de85-4483-87f6-444fbb938115');\n",
       "var x = new MutationObserver(function (mutations, observer) {{\n",
       "        var display = window.getComputedStyle(gd).display;\n",
       "        if (!display || display === 'none') {{\n",
       "            console.log([gd, 'removed!']);\n",
       "            Plotly.purge(gd);\n",
       "            observer.disconnect();\n",
       "        }}\n",
       "}});\n",
       "\n",
       "// Listen for the removal of the full notebook cells\n",
       "var notebookContainer = gd.closest('#notebook-container');\n",
       "if (notebookContainer) {{\n",
       "    x.observe(notebookContainer, {childList: true});\n",
       "}}\n",
       "\n",
       "// Listen for the clearing of the current output cell\n",
       "var outputEl = gd.closest('.output');\n",
       "if (outputEl) {{\n",
       "    x.observe(outputEl, {childList: true});\n",
       "}}\n",
       "\n",
       "                        })                };                });            </script>        </div>"
      ]
     },
     "metadata": {},
     "output_type": "display_data"
    }
   ],
   "source": [
    "aux = df[df[\"peso_desembarcado\"] >= 30000]\n",
    "print(aux[[\"nombre_lugarcaptura\", \"nombre_sitio_desembarque\", \"numero_embarcaciones\"]])\n",
    "print(sorted(set(aux.nombre_lugarcaptura)))\n",
    "x_especie(aux)"
   ]
  },
  {
   "cell_type": "code",
   "execution_count": null,
   "id": "4d5ea557",
   "metadata": {},
   "outputs": [],
   "source": [
    "aux = df[df[\"peso_desembarcado\"] < 1000]\n",
    "print(aux[[\"nombre_lugarcaptura\", \"nombre_sitio_desembarque\", \"numero_embarcaciones\"]])\n",
    "print(sorted(set(aux.nombre_lugarcaptura)))\n",
    "x_especie(aux)"
   ]
  },
  {
   "cell_type": "code",
   "execution_count": 84,
   "id": "c3601e27",
   "metadata": {},
   "outputs": [
    {
     "name": "stdout",
     "output_type": "stream",
     "text": [
      "Runs every time we get new data on arrivals:\n",
      "Time elapsed: 3.6947 seconds\n",
      "None data shape: (97455, 35) \n",
      "\n",
      "Runs every time we get new data on arrivals:\n",
      "Time elapsed: 10.5636 seconds\n",
      "None data size: (97455, 35) \n",
      "\n",
      "Runs every time we get new data on arrivals:\n",
      "Time elapsed: 0.1224 seconds\n",
      "None data size: (97455, 35) \n",
      "\n",
      "Runs every time we get new data on arrivals:\n",
      "Time elapsed: 1.1180 seconds\n",
      "None data size: (97455, 35) \n",
      "\n"
     ]
    }
   ],
   "source": [
    "# Time\n",
    "print(\"Runs every time we get new data on arrivals:\")\n",
    "print(time_elapsed(cleansing, data), \"data shape:\", data.shape,\"\\n\")\n",
    "print(\"Runs every time we get new data on arrivals:\")\n",
    "print(time_elapsed(viz_distribution, df), \"data size:\", data.shape,\"\\n\")\n",
    "print(\"Runs every time we get new data on arrivals:\")\n",
    "print(time_elapsed(viz_time_series, df,(\"year_month\")),\"data size:\", data.shape,\"\\n\")\n",
    "print(\"Runs every time we get new data on arrivals:\")\n",
    "print(time_elapsed(viz_categories, df),\"data size:\", data.shape,\"\\n\")"
   ]
  }
 ],
 "metadata": {
  "kernelspec": {
   "display_name": "Python 3 (ipykernel)",
   "language": "python",
   "name": "python3"
  },
  "language_info": {
   "codemirror_mode": {
    "name": "ipython",
    "version": 3
   },
   "file_extension": ".py",
   "mimetype": "text/x-python",
   "name": "python",
   "nbconvert_exporter": "python",
   "pygments_lexer": "ipython3",
   "version": "3.9.13"
  }
 },
 "nbformat": 4,
 "nbformat_minor": 5
}

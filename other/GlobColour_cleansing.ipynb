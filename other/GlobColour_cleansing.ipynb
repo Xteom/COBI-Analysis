{
 "cells": [
  {
   "cell_type": "code",
   "execution_count": 9,
   "id": "f40cf833",
   "metadata": {},
   "outputs": [],
   "source": [
    "# !pip install netCDF4\n",
    "import netCDF4 as nc\n",
    "import xarray as xr\n",
    "import pandas as pd\n",
    "import time\n",
    "from ftplib import FTP\n",
    "import os \n",
    "import re\n",
    "import numpy as np"
   ]
  },
  {
   "cell_type": "code",
   "execution_count": null,
   "id": "8fd479aa",
   "metadata": {},
   "outputs": [],
   "source": []
  },
  {
   "cell_type": "code",
   "execution_count": null,
   "id": "e5579297",
   "metadata": {},
   "outputs": [],
   "source": []
  },
  {
   "cell_type": "code",
   "execution_count": 10,
   "id": "f699500b",
   "metadata": {},
   "outputs": [],
   "source": [
    "def globcolour_cleansing(variable, directory_from, directory_to, coordinates=[-116, -113, 26, 29]):\n",
    "    \n",
    "    directory_path = directory_to + variable + \"_clean\"\n",
    "    if not os.path.isdir(directory_path):\n",
    "        os.mkdir(directory_path)\n",
    "    os.chdir(directory_path) #changes the active dir - this is where downloaded files will be saved to\n",
    "    \n",
    "        \n",
    "    directory = directory_from+variable\n",
    "    try:\n",
    "        for filename in os.listdir(directory):\n",
    "            f = os.path.join(directory, filename)\n",
    "\n",
    "            try:\n",
    "                date_match = re.search('\\d\\d\\d\\d\\d\\d\\d\\d', filename)\n",
    "                date = pd.to_datetime(date_match.group()).date()\n",
    "\n",
    "                ds = xr.open_dataset(f)\n",
    "\n",
    "                df = ds.to_dataframe()\n",
    "                df = df.reset_index()\n",
    "                ds.close()\n",
    "\n",
    "                df = df[(df.lon > coordinates[0]) & (df.lon < coordinates[1]) &\n",
    "                  (df.lat > coordinates[2]) & (df.lat < coordinates[3])] # este es el rango de coordenadas en el grid\n",
    "\n",
    "                # Aquí hacemos selección de columnas, las cuales son únicas para cada VARIABLE\n",
    "                obs = df #observación de un día\n",
    "\n",
    "                obs[\"date\"] = obs.apply(lambda x: date, axis=1)\n",
    "\n",
    "                obs.to_csv(filename.replace(\".nc\", \"_clean.csv\"))\n",
    "\n",
    "            except Exception as e:\n",
    "                print(\"Error con:\", filename, e)\n",
    "    except Exception as e:\n",
    "        #borrar esa exception cuando ya estén todas las variables\n",
    "        print(e)\n",
    "            \n",
    "directory_from = 'C:/Users/javi2/Documents/CD_aplicada_1/COBI/etl/data/globcolour/raw/'\n",
    "directory_to = \"C:/Users/javi2/Documents/CD_aplicada_1/COBI/etl/data/globcolour/clean/\"\n",
    "for v in list(variable_dict.keys()):\n",
    "    globcolour_cleansing(v, directory_from, directory_to)\n",
    "            \n"
   ]
  },
  {
   "cell_type": "code",
   "execution_count": 11,
   "id": "1de5f8a4",
   "metadata": {},
   "outputs": [],
   "source": [
    "coordinates = [-116, -113, 26, 29]\n",
    "variable_dict = {\n",
    "    \"photosynthetically_available_radiation\":\"__GLOB_RESOLUTION_AVW-MODVIR_PAR_DAY_00\",\n",
    "    \"aerosol_optical_thickness_over_water\":\"__GLOB_RESOLUTION_AVW-MODVIR_T865_DAY_00\",\n",
    "    \"aerosol_optical_thickness_over_water+land\":\"__GLOB_RESOLUTION_AVW-MODVIR_T550_DAY_00\",\n",
    "    \"cloud_fraction \":\"__GLOB_RESOLUTION_AV-MODVIR_CF_DAY_00\",\n",
    "    \"depth_of_the_bottom_of_the_euphotic_layer\":\"__GLOB_RESOLUTION_AVW-MODVIROLAVJ1OLB_ZEU_DAY_00\",\n",
    "    \"secchi_disk_depth\":\"__GLOB_RESOLUTION_AVW-MODVIR_ZSD-DORON_DAY\",\n",
    "    \"heated_layer_depth\":\"__GLOB_RESOLUTION_AVW-MODVIROLAVJ1OLB_ZHL_DAY_00\",\n",
    "    \"particulate_backscattering_coefficient\":\"__GLOB_100_GSM-MODVIR_BBP_DAY_00\",\n",
    "    \"coloured_dissolved_detrital_organic_materials_absorption_coefficient\":\"__GLOB_100_GSM-MODVIR_CDM_DAY_00\",\n",
    "    \"Diffuse_attenuation_coefficient\":\"__GLOB_100_AVW-MODVIR_KD490-LEE_DAY_00\",\n",
    "    \"relative_excess_of_radiance\":\"__GLOB_100_AVW-MODVIR_EL555_DAY_00\",\n",
    "    \"normalised_remote_sensing_reflectance\":\"__GLOB_100_AVW-MODVIR_NRRS490_DAY_00\",\n",
    "    \"normalised_fluorescence_line_height\":\"__GLOB_RESOLUTION_AV-MOD_NFLH_DAY_00\",\n",
    "    \"particulate_organic_carbon\":\"__GLOB_RESOLUTION_AVW-MODVIR_POC_DAY_00\",\n",
    "    \"particulate_inorganic_carbon\":\"__GLOB_RESOLUTION_AVW-MODVIR_PIC_DAY_00\",\n",
    "    \"inorganic_suspended_particulate_matter_concentration\":\"__GLOB_RESOLUTION_AVW-MODVIROLAVJ1OLB_SPM-OC5_DAY_00\"\n",
    "    \n",
    "}\n",
    "\n"
   ]
  },
  {
   "cell_type": "code",
   "execution_count": 12,
   "id": "9d8dd8e2",
   "metadata": {},
   "outputs": [
    {
     "name": "stdout",
     "output_type": "stream",
     "text": [
      "Error con: L3m_20230330__GLOB_100_AVW-MODVIR_T550_DAY_00.nc did not find a match in any of xarray's currently installed IO backends ['netcdf4', 'scipy']. Consider explicitly selecting one of the installed engines via the ``engine`` parameter, or installing additional IO dependencies, see:\n",
      "http://xarray.pydata.org/en/stable/getting-started-guide/installing.html\n",
      "http://xarray.pydata.org/en/stable/user-guide/io.html\n",
      "Error con: L3m_20230402__GLOB_100_AVW-MODVIR_T550_DAY_00.nc [Errno -101] NetCDF: HDF error: 'C:\\\\Users\\\\javi2\\\\Documents\\\\CD_aplicada_1\\\\COBI\\\\etl\\\\data\\\\globcolour\\\\raw\\\\aerosol_optical_thickness_over_water+land\\\\L3m_20230402__GLOB_100_AVW-MODVIR_T550_DAY_00.nc'\n",
      "[WinError 3] El sistema no puede encontrar la ruta especificada: 'C:/Users/javi2/Documents/CD_aplicada_1/COBI/etl/data/globcolour/raw/cloud_fraction '\n",
      "Error con: L3m_20200408__GLOB_100_AVW-MODVIROLAVJ1OLB_ZEU_DAY_00.nc [Errno -101] NetCDF: HDF error: 'C:\\\\Users\\\\javi2\\\\Documents\\\\CD_aplicada_1\\\\COBI\\\\etl\\\\data\\\\globcolour\\\\raw\\\\depth_of_the_bottom_of_the_euphotic_layer\\\\L3m_20200408__GLOB_100_AVW-MODVIROLAVJ1OLB_ZEU_DAY_00.nc'\n",
      "Error con: L3m_20200730__GLOB_100_AVW-MODVIROLAVJ1OLB_ZEU_DAY_00.nc [Errno -101] NetCDF: HDF error: 'C:\\\\Users\\\\javi2\\\\Documents\\\\CD_aplicada_1\\\\COBI\\\\etl\\\\data\\\\globcolour\\\\raw\\\\depth_of_the_bottom_of_the_euphotic_layer\\\\L3m_20200730__GLOB_100_AVW-MODVIROLAVJ1OLB_ZEU_DAY_00.nc'\n",
      "Error con: L3m_20201003__GLOB_100_AVW-MODVIROLAVJ1OLB_ZEU_DAY_00.nc [Errno -101] NetCDF: HDF error: 'C:\\\\Users\\\\javi2\\\\Documents\\\\CD_aplicada_1\\\\COBI\\\\etl\\\\data\\\\globcolour\\\\raw\\\\depth_of_the_bottom_of_the_euphotic_layer\\\\L3m_20201003__GLOB_100_AVW-MODVIROLAVJ1OLB_ZEU_DAY_00.nc'\n",
      "Error con: L3m_20230331__GLOB_100_AVW-MODVIROLAVJ1OLB_ZEU_DAY_00.nc did not find a match in any of xarray's currently installed IO backends ['netcdf4', 'scipy']. Consider explicitly selecting one of the installed engines via the ``engine`` parameter, or installing additional IO dependencies, see:\n",
      "http://xarray.pydata.org/en/stable/getting-started-guide/installing.html\n",
      "http://xarray.pydata.org/en/stable/user-guide/io.html\n",
      "Error con: L3m_20170501__GLOB_100_GSM-MODVIR_BBP_DAY_00.nc [Errno -101] NetCDF: HDF error: 'C:\\\\Users\\\\javi2\\\\Documents\\\\CD_aplicada_1\\\\COBI\\\\etl\\\\data\\\\globcolour\\\\raw\\\\particulate_backscattering_coefficient\\\\L3m_20170501__GLOB_100_GSM-MODVIR_BBP_DAY_00.nc'\n",
      "Error con: L3m_20190205__GLOB_100_GSM-MODVIR_BBP_DAY_00.nc [Errno -101] NetCDF: HDF error: 'C:\\\\Users\\\\javi2\\\\Documents\\\\CD_aplicada_1\\\\COBI\\\\etl\\\\data\\\\globcolour\\\\raw\\\\particulate_backscattering_coefficient\\\\L3m_20190205__GLOB_100_GSM-MODVIR_BBP_DAY_00.nc'\n",
      "Error con: L3m_20170915__GLOB_100_GSM-MODVIR_CDM_DAY_00.nc [Errno -101] NetCDF: HDF error: 'C:\\\\Users\\\\javi2\\\\Documents\\\\CD_aplicada_1\\\\COBI\\\\etl\\\\data\\\\globcolour\\\\raw\\\\coloured_dissolved_detrital_organic_materials_absorption_coefficient\\\\L3m_20170915__GLOB_100_GSM-MODVIR_CDM_DAY_00.nc'\n",
      "Error con: L3m_20170214__GLOB_100_AVW-MODVIR_KD490-LEE_DAY_00.nc did not find a match in any of xarray's currently installed IO backends ['netcdf4', 'scipy']. Consider explicitly selecting one of the installed engines via the ``engine`` parameter, or installing additional IO dependencies, see:\n",
      "http://xarray.pydata.org/en/stable/getting-started-guide/installing.html\n",
      "http://xarray.pydata.org/en/stable/user-guide/io.html\n",
      "Error con: L3m_20190828__GLOB_100_AVW-MODVIR_EL555_DAY_00.nc [Errno -101] NetCDF: HDF error: 'C:\\\\Users\\\\javi2\\\\Documents\\\\CD_aplicada_1\\\\COBI\\\\etl\\\\data\\\\globcolour\\\\raw\\\\relative_excess_of_radiance\\\\L3m_20190828__GLOB_100_AVW-MODVIR_EL555_DAY_00.nc'\n",
      "Error con: L3m_20180625__GLOB_100_AV-MOD_NFLH_DAY_00.nc did not find a match in any of xarray's currently installed IO backends ['netcdf4', 'scipy']. Consider explicitly selecting one of the installed engines via the ``engine`` parameter, or installing additional IO dependencies, see:\n",
      "http://xarray.pydata.org/en/stable/getting-started-guide/installing.html\n",
      "http://xarray.pydata.org/en/stable/user-guide/io.html\n",
      "Error con: L3m_20200101__GLOB_100_AVW-MODVIR_POC_DAY_00.nc [Errno -101] NetCDF: HDF error: 'C:\\\\Users\\\\javi2\\\\Documents\\\\CD_aplicada_1\\\\COBI\\\\etl\\\\data\\\\globcolour\\\\raw\\\\particulate_organic_carbon\\\\L3m_20200101__GLOB_100_AVW-MODVIR_POC_DAY_00.nc'\n"
     ]
    }
   ],
   "source": [
    "directory_from = 'C:/Users/javi2/Documents/CD_aplicada_1/COBI/etl/data/globcolour/raw/'\n",
    "directory_to = \"C:/Users/javi2/Documents/CD_aplicada_1/COBI/etl/data/globcolour/clean/\"\n",
    "for v in list(variable_dict.keys()):\n",
    "    globcolour_cleansing(v, directory_from, directory_to)"
   ]
  },
  {
   "cell_type": "code",
   "execution_count": 12,
   "id": "dd2a5461",
   "metadata": {},
   "outputs": [
    {
     "ename": "FileNotFoundError",
     "evalue": "[Errno 2] No such file or directory: 'C:\\\\User\\\\javi2\\\\Documents\\\\CD_aplicada_1\\\\COBI\\\\data\\\\res25.nc'",
     "output_type": "error",
     "traceback": [
      "\u001b[1;31m---------------------------------------------------------------------------\u001b[0m",
      "\u001b[1;31mKeyError\u001b[0m                                  Traceback (most recent call last)",
      "\u001b[1;32m~\\anaconda3\\lib\\site-packages\\xarray\\backends\\file_manager.py\u001b[0m in \u001b[0;36m_acquire_with_cache_info\u001b[1;34m(self, needs_lock)\u001b[0m\n\u001b[0;32m    198\u001b[0m             \u001b[1;32mtry\u001b[0m\u001b[1;33m:\u001b[0m\u001b[1;33m\u001b[0m\u001b[1;33m\u001b[0m\u001b[0m\n\u001b[1;32m--> 199\u001b[1;33m                 \u001b[0mfile\u001b[0m \u001b[1;33m=\u001b[0m \u001b[0mself\u001b[0m\u001b[1;33m.\u001b[0m\u001b[0m_cache\u001b[0m\u001b[1;33m[\u001b[0m\u001b[0mself\u001b[0m\u001b[1;33m.\u001b[0m\u001b[0m_key\u001b[0m\u001b[1;33m]\u001b[0m\u001b[1;33m\u001b[0m\u001b[1;33m\u001b[0m\u001b[0m\n\u001b[0m\u001b[0;32m    200\u001b[0m             \u001b[1;32mexcept\u001b[0m \u001b[0mKeyError\u001b[0m\u001b[1;33m:\u001b[0m\u001b[1;33m\u001b[0m\u001b[1;33m\u001b[0m\u001b[0m\n",
      "\u001b[1;32m~\\anaconda3\\lib\\site-packages\\xarray\\backends\\lru_cache.py\u001b[0m in \u001b[0;36m__getitem__\u001b[1;34m(self, key)\u001b[0m\n\u001b[0;32m     52\u001b[0m         \u001b[1;32mwith\u001b[0m \u001b[0mself\u001b[0m\u001b[1;33m.\u001b[0m\u001b[0m_lock\u001b[0m\u001b[1;33m:\u001b[0m\u001b[1;33m\u001b[0m\u001b[1;33m\u001b[0m\u001b[0m\n\u001b[1;32m---> 53\u001b[1;33m             \u001b[0mvalue\u001b[0m \u001b[1;33m=\u001b[0m \u001b[0mself\u001b[0m\u001b[1;33m.\u001b[0m\u001b[0m_cache\u001b[0m\u001b[1;33m[\u001b[0m\u001b[0mkey\u001b[0m\u001b[1;33m]\u001b[0m\u001b[1;33m\u001b[0m\u001b[1;33m\u001b[0m\u001b[0m\n\u001b[0m\u001b[0;32m     54\u001b[0m             \u001b[0mself\u001b[0m\u001b[1;33m.\u001b[0m\u001b[0m_cache\u001b[0m\u001b[1;33m.\u001b[0m\u001b[0mmove_to_end\u001b[0m\u001b[1;33m(\u001b[0m\u001b[0mkey\u001b[0m\u001b[1;33m)\u001b[0m\u001b[1;33m\u001b[0m\u001b[1;33m\u001b[0m\u001b[0m\n",
      "\u001b[1;31mKeyError\u001b[0m: [<class 'netCDF4._netCDF4.Dataset'>, ('C:\\\\User\\\\javi2\\\\Documents\\\\CD_aplicada_1\\\\COBI\\\\data\\\\res25.nc',), 'r', (('clobber', True), ('diskless', False), ('format', 'NETCDF4'), ('persist', False))]",
      "\nDuring handling of the above exception, another exception occurred:\n",
      "\u001b[1;31mFileNotFoundError\u001b[0m                         Traceback (most recent call last)",
      "\u001b[1;32m~\\AppData\\Local\\Temp\\ipykernel_13532\\2543997666.py\u001b[0m in \u001b[0;36m<module>\u001b[1;34m\u001b[0m\n\u001b[0;32m      1\u001b[0m \u001b[1;31m# f = os.path.join(\"C:/User/javi2/Documents/CD_aplicada_1/COBI/data\", \"res25.nc\")\u001b[0m\u001b[1;33m\u001b[0m\u001b[1;33m\u001b[0m\u001b[0m\n\u001b[0;32m      2\u001b[0m \u001b[1;33m\u001b[0m\u001b[0m\n\u001b[1;32m----> 3\u001b[1;33m \u001b[0mds\u001b[0m \u001b[1;33m=\u001b[0m \u001b[0mxr\u001b[0m\u001b[1;33m.\u001b[0m\u001b[0mopen_dataset\u001b[0m\u001b[1;33m(\u001b[0m\u001b[1;34m\"C:/User/javi2/Documents/CD_aplicada_1/COBI/data/res25.nc\"\u001b[0m\u001b[1;33m)\u001b[0m\u001b[1;33m\u001b[0m\u001b[1;33m\u001b[0m\u001b[0m\n\u001b[0m\u001b[0;32m      4\u001b[0m \u001b[1;33m\u001b[0m\u001b[0m\n\u001b[0;32m      5\u001b[0m \u001b[0mdf\u001b[0m \u001b[1;33m=\u001b[0m \u001b[0mds\u001b[0m\u001b[1;33m.\u001b[0m\u001b[0mto_dataframe\u001b[0m\u001b[1;33m(\u001b[0m\u001b[1;33m)\u001b[0m\u001b[1;33m\u001b[0m\u001b[1;33m\u001b[0m\u001b[0m\n",
      "\u001b[1;32m~\\anaconda3\\lib\\site-packages\\xarray\\backends\\api.py\u001b[0m in \u001b[0;36mopen_dataset\u001b[1;34m(filename_or_obj, engine, chunks, cache, decode_cf, mask_and_scale, decode_times, decode_timedelta, use_cftime, concat_characters, decode_coords, drop_variables, backend_kwargs, *args, **kwargs)\u001b[0m\n\u001b[0;32m    493\u001b[0m \u001b[1;33m\u001b[0m\u001b[0m\n\u001b[0;32m    494\u001b[0m     \u001b[0moverwrite_encoded_chunks\u001b[0m \u001b[1;33m=\u001b[0m \u001b[0mkwargs\u001b[0m\u001b[1;33m.\u001b[0m\u001b[0mpop\u001b[0m\u001b[1;33m(\u001b[0m\u001b[1;34m\"overwrite_encoded_chunks\"\u001b[0m\u001b[1;33m,\u001b[0m \u001b[1;32mNone\u001b[0m\u001b[1;33m)\u001b[0m\u001b[1;33m\u001b[0m\u001b[1;33m\u001b[0m\u001b[0m\n\u001b[1;32m--> 495\u001b[1;33m     backend_ds = backend.open_dataset(\n\u001b[0m\u001b[0;32m    496\u001b[0m         \u001b[0mfilename_or_obj\u001b[0m\u001b[1;33m,\u001b[0m\u001b[1;33m\u001b[0m\u001b[1;33m\u001b[0m\u001b[0m\n\u001b[0;32m    497\u001b[0m         \u001b[0mdrop_variables\u001b[0m\u001b[1;33m=\u001b[0m\u001b[0mdrop_variables\u001b[0m\u001b[1;33m,\u001b[0m\u001b[1;33m\u001b[0m\u001b[1;33m\u001b[0m\u001b[0m\n",
      "\u001b[1;32m~\\anaconda3\\lib\\site-packages\\xarray\\backends\\netCDF4_.py\u001b[0m in \u001b[0;36mopen_dataset\u001b[1;34m(self, filename_or_obj, mask_and_scale, decode_times, concat_characters, decode_coords, drop_variables, use_cftime, decode_timedelta, group, mode, format, clobber, diskless, persist, lock, autoclose)\u001b[0m\n\u001b[0;32m    548\u001b[0m \u001b[1;33m\u001b[0m\u001b[0m\n\u001b[0;32m    549\u001b[0m         \u001b[0mfilename_or_obj\u001b[0m \u001b[1;33m=\u001b[0m \u001b[0m_normalize_path\u001b[0m\u001b[1;33m(\u001b[0m\u001b[0mfilename_or_obj\u001b[0m\u001b[1;33m)\u001b[0m\u001b[1;33m\u001b[0m\u001b[1;33m\u001b[0m\u001b[0m\n\u001b[1;32m--> 550\u001b[1;33m         store = NetCDF4DataStore.open(\n\u001b[0m\u001b[0;32m    551\u001b[0m             \u001b[0mfilename_or_obj\u001b[0m\u001b[1;33m,\u001b[0m\u001b[1;33m\u001b[0m\u001b[1;33m\u001b[0m\u001b[0m\n\u001b[0;32m    552\u001b[0m             \u001b[0mmode\u001b[0m\u001b[1;33m=\u001b[0m\u001b[0mmode\u001b[0m\u001b[1;33m,\u001b[0m\u001b[1;33m\u001b[0m\u001b[1;33m\u001b[0m\u001b[0m\n",
      "\u001b[1;32m~\\anaconda3\\lib\\site-packages\\xarray\\backends\\netCDF4_.py\u001b[0m in \u001b[0;36mopen\u001b[1;34m(cls, filename, mode, format, group, clobber, diskless, persist, lock, lock_maker, autoclose)\u001b[0m\n\u001b[0;32m    377\u001b[0m             \u001b[0mnetCDF4\u001b[0m\u001b[1;33m.\u001b[0m\u001b[0mDataset\u001b[0m\u001b[1;33m,\u001b[0m \u001b[0mfilename\u001b[0m\u001b[1;33m,\u001b[0m \u001b[0mmode\u001b[0m\u001b[1;33m=\u001b[0m\u001b[0mmode\u001b[0m\u001b[1;33m,\u001b[0m \u001b[0mkwargs\u001b[0m\u001b[1;33m=\u001b[0m\u001b[0mkwargs\u001b[0m\u001b[1;33m\u001b[0m\u001b[1;33m\u001b[0m\u001b[0m\n\u001b[0;32m    378\u001b[0m         )\n\u001b[1;32m--> 379\u001b[1;33m         \u001b[1;32mreturn\u001b[0m \u001b[0mcls\u001b[0m\u001b[1;33m(\u001b[0m\u001b[0mmanager\u001b[0m\u001b[1;33m,\u001b[0m \u001b[0mgroup\u001b[0m\u001b[1;33m=\u001b[0m\u001b[0mgroup\u001b[0m\u001b[1;33m,\u001b[0m \u001b[0mmode\u001b[0m\u001b[1;33m=\u001b[0m\u001b[0mmode\u001b[0m\u001b[1;33m,\u001b[0m \u001b[0mlock\u001b[0m\u001b[1;33m=\u001b[0m\u001b[0mlock\u001b[0m\u001b[1;33m,\u001b[0m \u001b[0mautoclose\u001b[0m\u001b[1;33m=\u001b[0m\u001b[0mautoclose\u001b[0m\u001b[1;33m)\u001b[0m\u001b[1;33m\u001b[0m\u001b[1;33m\u001b[0m\u001b[0m\n\u001b[0m\u001b[0;32m    380\u001b[0m \u001b[1;33m\u001b[0m\u001b[0m\n\u001b[0;32m    381\u001b[0m     \u001b[1;32mdef\u001b[0m \u001b[0m_acquire\u001b[0m\u001b[1;33m(\u001b[0m\u001b[0mself\u001b[0m\u001b[1;33m,\u001b[0m \u001b[0mneeds_lock\u001b[0m\u001b[1;33m=\u001b[0m\u001b[1;32mTrue\u001b[0m\u001b[1;33m)\u001b[0m\u001b[1;33m:\u001b[0m\u001b[1;33m\u001b[0m\u001b[1;33m\u001b[0m\u001b[0m\n",
      "\u001b[1;32m~\\anaconda3\\lib\\site-packages\\xarray\\backends\\netCDF4_.py\u001b[0m in \u001b[0;36m__init__\u001b[1;34m(self, manager, group, mode, lock, autoclose)\u001b[0m\n\u001b[0;32m    325\u001b[0m         \u001b[0mself\u001b[0m\u001b[1;33m.\u001b[0m\u001b[0m_group\u001b[0m \u001b[1;33m=\u001b[0m \u001b[0mgroup\u001b[0m\u001b[1;33m\u001b[0m\u001b[1;33m\u001b[0m\u001b[0m\n\u001b[0;32m    326\u001b[0m         \u001b[0mself\u001b[0m\u001b[1;33m.\u001b[0m\u001b[0m_mode\u001b[0m \u001b[1;33m=\u001b[0m \u001b[0mmode\u001b[0m\u001b[1;33m\u001b[0m\u001b[1;33m\u001b[0m\u001b[0m\n\u001b[1;32m--> 327\u001b[1;33m         \u001b[0mself\u001b[0m\u001b[1;33m.\u001b[0m\u001b[0mformat\u001b[0m \u001b[1;33m=\u001b[0m \u001b[0mself\u001b[0m\u001b[1;33m.\u001b[0m\u001b[0mds\u001b[0m\u001b[1;33m.\u001b[0m\u001b[0mdata_model\u001b[0m\u001b[1;33m\u001b[0m\u001b[1;33m\u001b[0m\u001b[0m\n\u001b[0m\u001b[0;32m    328\u001b[0m         \u001b[0mself\u001b[0m\u001b[1;33m.\u001b[0m\u001b[0m_filename\u001b[0m \u001b[1;33m=\u001b[0m \u001b[0mself\u001b[0m\u001b[1;33m.\u001b[0m\u001b[0mds\u001b[0m\u001b[1;33m.\u001b[0m\u001b[0mfilepath\u001b[0m\u001b[1;33m(\u001b[0m\u001b[1;33m)\u001b[0m\u001b[1;33m\u001b[0m\u001b[1;33m\u001b[0m\u001b[0m\n\u001b[0;32m    329\u001b[0m         \u001b[0mself\u001b[0m\u001b[1;33m.\u001b[0m\u001b[0mis_remote\u001b[0m \u001b[1;33m=\u001b[0m \u001b[0mis_remote_uri\u001b[0m\u001b[1;33m(\u001b[0m\u001b[0mself\u001b[0m\u001b[1;33m.\u001b[0m\u001b[0m_filename\u001b[0m\u001b[1;33m)\u001b[0m\u001b[1;33m\u001b[0m\u001b[1;33m\u001b[0m\u001b[0m\n",
      "\u001b[1;32m~\\anaconda3\\lib\\site-packages\\xarray\\backends\\netCDF4_.py\u001b[0m in \u001b[0;36mds\u001b[1;34m(self)\u001b[0m\n\u001b[0;32m    386\u001b[0m     \u001b[1;33m@\u001b[0m\u001b[0mproperty\u001b[0m\u001b[1;33m\u001b[0m\u001b[1;33m\u001b[0m\u001b[0m\n\u001b[0;32m    387\u001b[0m     \u001b[1;32mdef\u001b[0m \u001b[0mds\u001b[0m\u001b[1;33m(\u001b[0m\u001b[0mself\u001b[0m\u001b[1;33m)\u001b[0m\u001b[1;33m:\u001b[0m\u001b[1;33m\u001b[0m\u001b[1;33m\u001b[0m\u001b[0m\n\u001b[1;32m--> 388\u001b[1;33m         \u001b[1;32mreturn\u001b[0m \u001b[0mself\u001b[0m\u001b[1;33m.\u001b[0m\u001b[0m_acquire\u001b[0m\u001b[1;33m(\u001b[0m\u001b[1;33m)\u001b[0m\u001b[1;33m\u001b[0m\u001b[1;33m\u001b[0m\u001b[0m\n\u001b[0m\u001b[0;32m    389\u001b[0m \u001b[1;33m\u001b[0m\u001b[0m\n\u001b[0;32m    390\u001b[0m     \u001b[1;32mdef\u001b[0m \u001b[0mopen_store_variable\u001b[0m\u001b[1;33m(\u001b[0m\u001b[0mself\u001b[0m\u001b[1;33m,\u001b[0m \u001b[0mname\u001b[0m\u001b[1;33m,\u001b[0m \u001b[0mvar\u001b[0m\u001b[1;33m)\u001b[0m\u001b[1;33m:\u001b[0m\u001b[1;33m\u001b[0m\u001b[1;33m\u001b[0m\u001b[0m\n",
      "\u001b[1;32m~\\anaconda3\\lib\\site-packages\\xarray\\backends\\netCDF4_.py\u001b[0m in \u001b[0;36m_acquire\u001b[1;34m(self, needs_lock)\u001b[0m\n\u001b[0;32m    380\u001b[0m \u001b[1;33m\u001b[0m\u001b[0m\n\u001b[0;32m    381\u001b[0m     \u001b[1;32mdef\u001b[0m \u001b[0m_acquire\u001b[0m\u001b[1;33m(\u001b[0m\u001b[0mself\u001b[0m\u001b[1;33m,\u001b[0m \u001b[0mneeds_lock\u001b[0m\u001b[1;33m=\u001b[0m\u001b[1;32mTrue\u001b[0m\u001b[1;33m)\u001b[0m\u001b[1;33m:\u001b[0m\u001b[1;33m\u001b[0m\u001b[1;33m\u001b[0m\u001b[0m\n\u001b[1;32m--> 382\u001b[1;33m         \u001b[1;32mwith\u001b[0m \u001b[0mself\u001b[0m\u001b[1;33m.\u001b[0m\u001b[0m_manager\u001b[0m\u001b[1;33m.\u001b[0m\u001b[0macquire_context\u001b[0m\u001b[1;33m(\u001b[0m\u001b[0mneeds_lock\u001b[0m\u001b[1;33m)\u001b[0m \u001b[1;32mas\u001b[0m \u001b[0mroot\u001b[0m\u001b[1;33m:\u001b[0m\u001b[1;33m\u001b[0m\u001b[1;33m\u001b[0m\u001b[0m\n\u001b[0m\u001b[0;32m    383\u001b[0m             \u001b[0mds\u001b[0m \u001b[1;33m=\u001b[0m \u001b[0m_nc4_require_group\u001b[0m\u001b[1;33m(\u001b[0m\u001b[0mroot\u001b[0m\u001b[1;33m,\u001b[0m \u001b[0mself\u001b[0m\u001b[1;33m.\u001b[0m\u001b[0m_group\u001b[0m\u001b[1;33m,\u001b[0m \u001b[0mself\u001b[0m\u001b[1;33m.\u001b[0m\u001b[0m_mode\u001b[0m\u001b[1;33m)\u001b[0m\u001b[1;33m\u001b[0m\u001b[1;33m\u001b[0m\u001b[0m\n\u001b[0;32m    384\u001b[0m         \u001b[1;32mreturn\u001b[0m \u001b[0mds\u001b[0m\u001b[1;33m\u001b[0m\u001b[1;33m\u001b[0m\u001b[0m\n",
      "\u001b[1;32m~\\anaconda3\\lib\\contextlib.py\u001b[0m in \u001b[0;36m__enter__\u001b[1;34m(self)\u001b[0m\n\u001b[0;32m    117\u001b[0m         \u001b[1;32mdel\u001b[0m \u001b[0mself\u001b[0m\u001b[1;33m.\u001b[0m\u001b[0margs\u001b[0m\u001b[1;33m,\u001b[0m \u001b[0mself\u001b[0m\u001b[1;33m.\u001b[0m\u001b[0mkwds\u001b[0m\u001b[1;33m,\u001b[0m \u001b[0mself\u001b[0m\u001b[1;33m.\u001b[0m\u001b[0mfunc\u001b[0m\u001b[1;33m\u001b[0m\u001b[1;33m\u001b[0m\u001b[0m\n\u001b[0;32m    118\u001b[0m         \u001b[1;32mtry\u001b[0m\u001b[1;33m:\u001b[0m\u001b[1;33m\u001b[0m\u001b[1;33m\u001b[0m\u001b[0m\n\u001b[1;32m--> 119\u001b[1;33m             \u001b[1;32mreturn\u001b[0m \u001b[0mnext\u001b[0m\u001b[1;33m(\u001b[0m\u001b[0mself\u001b[0m\u001b[1;33m.\u001b[0m\u001b[0mgen\u001b[0m\u001b[1;33m)\u001b[0m\u001b[1;33m\u001b[0m\u001b[1;33m\u001b[0m\u001b[0m\n\u001b[0m\u001b[0;32m    120\u001b[0m         \u001b[1;32mexcept\u001b[0m \u001b[0mStopIteration\u001b[0m\u001b[1;33m:\u001b[0m\u001b[1;33m\u001b[0m\u001b[1;33m\u001b[0m\u001b[0m\n\u001b[0;32m    121\u001b[0m             \u001b[1;32mraise\u001b[0m \u001b[0mRuntimeError\u001b[0m\u001b[1;33m(\u001b[0m\u001b[1;34m\"generator didn't yield\"\u001b[0m\u001b[1;33m)\u001b[0m \u001b[1;32mfrom\u001b[0m \u001b[1;32mNone\u001b[0m\u001b[1;33m\u001b[0m\u001b[1;33m\u001b[0m\u001b[0m\n",
      "\u001b[1;32m~\\anaconda3\\lib\\site-packages\\xarray\\backends\\file_manager.py\u001b[0m in \u001b[0;36macquire_context\u001b[1;34m(self, needs_lock)\u001b[0m\n\u001b[0;32m    185\u001b[0m     \u001b[1;32mdef\u001b[0m \u001b[0macquire_context\u001b[0m\u001b[1;33m(\u001b[0m\u001b[0mself\u001b[0m\u001b[1;33m,\u001b[0m \u001b[0mneeds_lock\u001b[0m\u001b[1;33m=\u001b[0m\u001b[1;32mTrue\u001b[0m\u001b[1;33m)\u001b[0m\u001b[1;33m:\u001b[0m\u001b[1;33m\u001b[0m\u001b[1;33m\u001b[0m\u001b[0m\n\u001b[0;32m    186\u001b[0m         \u001b[1;34m\"\"\"Context manager for acquiring a file.\"\"\"\u001b[0m\u001b[1;33m\u001b[0m\u001b[1;33m\u001b[0m\u001b[0m\n\u001b[1;32m--> 187\u001b[1;33m         \u001b[0mfile\u001b[0m\u001b[1;33m,\u001b[0m \u001b[0mcached\u001b[0m \u001b[1;33m=\u001b[0m \u001b[0mself\u001b[0m\u001b[1;33m.\u001b[0m\u001b[0m_acquire_with_cache_info\u001b[0m\u001b[1;33m(\u001b[0m\u001b[0mneeds_lock\u001b[0m\u001b[1;33m)\u001b[0m\u001b[1;33m\u001b[0m\u001b[1;33m\u001b[0m\u001b[0m\n\u001b[0m\u001b[0;32m    188\u001b[0m         \u001b[1;32mtry\u001b[0m\u001b[1;33m:\u001b[0m\u001b[1;33m\u001b[0m\u001b[1;33m\u001b[0m\u001b[0m\n\u001b[0;32m    189\u001b[0m             \u001b[1;32myield\u001b[0m \u001b[0mfile\u001b[0m\u001b[1;33m\u001b[0m\u001b[1;33m\u001b[0m\u001b[0m\n",
      "\u001b[1;32m~\\anaconda3\\lib\\site-packages\\xarray\\backends\\file_manager.py\u001b[0m in \u001b[0;36m_acquire_with_cache_info\u001b[1;34m(self, needs_lock)\u001b[0m\n\u001b[0;32m    203\u001b[0m                     \u001b[0mkwargs\u001b[0m \u001b[1;33m=\u001b[0m \u001b[0mkwargs\u001b[0m\u001b[1;33m.\u001b[0m\u001b[0mcopy\u001b[0m\u001b[1;33m(\u001b[0m\u001b[1;33m)\u001b[0m\u001b[1;33m\u001b[0m\u001b[1;33m\u001b[0m\u001b[0m\n\u001b[0;32m    204\u001b[0m                     \u001b[0mkwargs\u001b[0m\u001b[1;33m[\u001b[0m\u001b[1;34m\"mode\"\u001b[0m\u001b[1;33m]\u001b[0m \u001b[1;33m=\u001b[0m \u001b[0mself\u001b[0m\u001b[1;33m.\u001b[0m\u001b[0m_mode\u001b[0m\u001b[1;33m\u001b[0m\u001b[1;33m\u001b[0m\u001b[0m\n\u001b[1;32m--> 205\u001b[1;33m                 \u001b[0mfile\u001b[0m \u001b[1;33m=\u001b[0m \u001b[0mself\u001b[0m\u001b[1;33m.\u001b[0m\u001b[0m_opener\u001b[0m\u001b[1;33m(\u001b[0m\u001b[1;33m*\u001b[0m\u001b[0mself\u001b[0m\u001b[1;33m.\u001b[0m\u001b[0m_args\u001b[0m\u001b[1;33m,\u001b[0m \u001b[1;33m**\u001b[0m\u001b[0mkwargs\u001b[0m\u001b[1;33m)\u001b[0m\u001b[1;33m\u001b[0m\u001b[1;33m\u001b[0m\u001b[0m\n\u001b[0m\u001b[0;32m    206\u001b[0m                 \u001b[1;32mif\u001b[0m \u001b[0mself\u001b[0m\u001b[1;33m.\u001b[0m\u001b[0m_mode\u001b[0m \u001b[1;33m==\u001b[0m \u001b[1;34m\"w\"\u001b[0m\u001b[1;33m:\u001b[0m\u001b[1;33m\u001b[0m\u001b[1;33m\u001b[0m\u001b[0m\n\u001b[0;32m    207\u001b[0m                     \u001b[1;31m# ensure file doesn't get overriden when opened again\u001b[0m\u001b[1;33m\u001b[0m\u001b[1;33m\u001b[0m\u001b[0m\n",
      "\u001b[1;32msrc\\netCDF4\\_netCDF4.pyx\u001b[0m in \u001b[0;36mnetCDF4._netCDF4.Dataset.__init__\u001b[1;34m()\u001b[0m\n",
      "\u001b[1;32msrc\\netCDF4\\_netCDF4.pyx\u001b[0m in \u001b[0;36mnetCDF4._netCDF4._ensure_nc_success\u001b[1;34m()\u001b[0m\n",
      "\u001b[1;31mFileNotFoundError\u001b[0m: [Errno 2] No such file or directory: 'C:\\\\User\\\\javi2\\\\Documents\\\\CD_aplicada_1\\\\COBI\\\\data\\\\res25.nc'"
     ]
    }
   ],
   "source": [
    "# f = os.path.join(\"C:/User/javi2/Documents/CD_aplicada_1/COBI/data\", \"res25.nc\")\n",
    "\n",
    "ds = xr.open_dataset(\"C:/User/javi2/Documents/CD_aplicada_1/COBI/data/res25.nc\")\n",
    "\n",
    "df = ds.to_dataframe()\n",
    "df = df.reset_index()\n",
    "ds.close()\n",
    "\n",
    "df = df[(df.lon > coordinates[0]) & (df.lon < coordinates[1]) &\n",
    "  (df.lat > coordinates[2]) & (df.lat < coordinates[3])] # este es el rango de coordenadas en el grid\n",
    "\n",
    "# Aquí hacemos selección de columnas, las cuales son únicas para cada VARIABLE\n",
    "obs = df #observación de un día\n",
    "\n",
    "obs[\"date\"] = obs.apply(lambda x: date, axis=1)\n",
    "\n",
    "obs.to_csv(filename.replace(\".nc\", \"_clean.csv\"))"
   ]
  }
 ],
 "metadata": {
  "kernelspec": {
   "display_name": "Python 3 (ipykernel)",
   "language": "python",
   "name": "python3"
  },
  "language_info": {
   "codemirror_mode": {
    "name": "ipython",
    "version": 3
   },
   "file_extension": ".py",
   "mimetype": "text/x-python",
   "name": "python",
   "nbconvert_exporter": "python",
   "pygments_lexer": "ipython3",
   "version": "3.9.13"
  }
 },
 "nbformat": 4,
 "nbformat_minor": 5
}

{
 "cells": [
  {
   "cell_type": "code",
   "execution_count": 39,
   "id": "f40cf833",
   "metadata": {},
   "outputs": [],
   "source": [
    "# !pip install netCDF4\n",
    "import netCDF4 as nc\n",
    "import xarray as xr\n",
    "import pandas as pd\n",
    "import time\n",
    "from ftplib import FTP\n",
    "import os \n",
    "import re\n",
    "import numpy as np"
   ]
  },
  {
   "cell_type": "code",
   "execution_count": null,
   "id": "8fd479aa",
   "metadata": {},
   "outputs": [],
   "source": []
  },
  {
   "cell_type": "code",
   "execution_count": null,
   "id": "e5579297",
   "metadata": {},
   "outputs": [],
   "source": []
  },
  {
   "cell_type": "code",
   "execution_count": 40,
   "id": "f699500b",
   "metadata": {},
   "outputs": [],
   "source": [
    "def globcolour_cleansing(variable, directory_from, directory_to, coordinates=[-116, -113, 26, 29]):\n",
    "    \n",
    "    directory_path = directory_to + variable + \"_clean\"\n",
    "    if not os.path.isdir(directory_path):\n",
    "        os.mkdir(directory_path)\n",
    "    os.chdir(directory_path) #changes the active dir - this is where downloaded files will be saved to\n",
    "    \n",
    "        \n",
    "    directory = directory_from+variable\n",
    "    try:\n",
    "        for filename in os.listdir(directory):\n",
    "            f = os.path.join(directory, filename)\n",
    "\n",
    "            try:\n",
    "                date_match = re.search('\\d\\d\\d\\d\\d\\d\\d\\d', filename)\n",
    "                date = pd.to_datetime(date_match.group()).date()\n",
    "\n",
    "                ds = xr.open_dataset(f)\n",
    "\n",
    "                df = ds.to_dataframe()\n",
    "                df = df.reset_index()\n",
    "                ds.close()\n",
    "\n",
    "                df = df[(df.lon > coordinates[0]) & (df.lon < coordinates[1]) &\n",
    "                  (df.lat > coordinates[2]) & (df.lat < coordinates[3])] # este es el rango de coordenadas en el grid\n",
    "\n",
    "                # Aquí hacemos selección de columnas, las cuales son únicas para cada VARIABLE\n",
    "                obs = df #observación de un día\n",
    "\n",
    "                obs[\"date\"] = obs.apply(lambda x: date, axis=1)\n",
    "\n",
    "                obs.to_csv(filename.replace(\".nc\", \"_clean.csv\"))\n",
    "\n",
    "            except Exception as e:\n",
    "                print(\"Error con:\", filename, e)\n",
    "    except Exception as e:\n",
    "        #borrar esa exception cuando ya estén todas las variables\n",
    "        print(e)\n",
    "            \n",
    "            \n"
   ]
  },
  {
   "cell_type": "code",
   "execution_count": 41,
   "id": "1de5f8a4",
   "metadata": {},
   "outputs": [],
   "source": [
    "coordinates = [-116, -113, 26, 29]\n",
    "variable_dict = {\n",
    "    \"photosynthetically_available_radiation\":\"__GLOB_RESOLUTION_AVW-MODVIR_PAR_DAY_00\",\n",
    "    \"aerosol_optical_thickness_over_water\":\"__GLOB_RESOLUTION_AVW-MODVIR_T865_DAY_00\",\n",
    "    \"aerosol_optical_thickness_over_water+land\":\"__GLOB_RESOLUTION_AVW-MODVIR_T550_DAY_00\",\n",
    "    \"cloud_fraction \":\"__GLOB_RESOLUTION_AV-MODVIR_CF_DAY_00\",\n",
    "    \"depth_of_the_bottom_of_the_euphotic_layer\":\"__GLOB_RESOLUTION_AVW-MODVIROLAVJ1OLB_ZEU_DAY_00\",\n",
    "    \"secchi_disk_depth\":\"__GLOB_RESOLUTION_AVW-MODVIR_ZSD-DORON_DAY\",\n",
    "    \"heated_layer_depth\":\"__GLOB_RESOLUTION_AVW-MODVIROLAVJ1OLB_ZHL_DAY_00\",\n",
    "    \"particulate_backscattering_coefficient\":\"__GLOB_100_GSM-MODVIR_BBP_DAY_00\",\n",
    "    \"coloured_dissolved_detrital_organic_materials_absorption_coefficient\":\"__GLOB_100_GSM-MODVIR_CDM_DAY_00\",\n",
    "    \"Diffuse_attenuation_coefficient\":\"__GLOB_100_AVW-MODVIR_KD490-LEE_DAY_00\",\n",
    "    \"relative_excess_of_radiance\":\"__GLOB_100_AVW-MODVIR_EL555_DAY_00\",\n",
    "    \"normalised_remote_sensing_reflectance\":\"__GLOB_100_AVW-MODVIR_NRRS490_DAY_00\",\n",
    "    \"normalised_fluorescence_line_height\":\"__GLOB_RESOLUTION_AV-MOD_NFLH_DAY_00\",\n",
    "    \"particulate_organic_carbon\":\"__GLOB_RESOLUTION_AVW-MODVIR_POC_DAY_00\",\n",
    "    \"particulate_inorganic_carbon\":\"__GLOB_RESOLUTION_AVW-MODVIR_PIC_DAY_00\",\n",
    "    \"inorganic_suspended_particulate_matter_concentration\":\"__GLOB_RESOLUTION_AVW-MODVIROLAVJ1OLB_SPM-OC5_DAY_00\"\n",
    "    \n",
    "}\n"
   ]
  },
  {
   "cell_type": "code",
   "execution_count": 44,
   "id": "9d8dd8e2",
   "metadata": {},
   "outputs": [
    {
     "name": "stdout",
     "output_type": "stream",
     "text": [
      "Error con: L3m_20150712__GLOB_100_AVW-MODVIR_T865_DAY_00.nc [Errno -101] NetCDF: HDF error: 'C:\\\\Users\\\\javi2\\\\Documents\\\\CD_aplicada_1\\\\COBI\\\\data\\\\simar\\\\raw\\\\aerosol_optical_thickness_over_water\\\\L3m_20150712__GLOB_100_AVW-MODVIR_T865_DAY_00.nc'\n",
      "[WinError 3] El sistema no puede encontrar la ruta especificada: 'C:/Users/javi2/Documents/CD_aplicada_1/COBI/data/simar/raw/cloud_fraction '\n",
      "Error con: L3m_20200101__GLOB_100_AVW-MODVIR_POC_DAY_00.nc [Errno -101] NetCDF: HDF error: 'C:\\\\Users\\\\javi2\\\\Documents\\\\CD_aplicada_1\\\\COBI\\\\data\\\\simar\\\\raw\\\\particulate_organic_carbon\\\\L3m_20200101__GLOB_100_AVW-MODVIR_POC_DAY_00.nc'\n"
     ]
    }
   ],
   "source": [
    "directory_from = 'C:/Users/javi2/Documents/CD_aplicada_1/COBI/data/simar/raw/'\n",
    "directory_to = \"C:/Users/javi2/Documents/CD_aplicada_1/COBI/data/simar/clean/\"\n",
    "for v in list(variable_dict.keys()):\n",
    "    globcolour_cleansing(v, directory_from, directory_to)"
   ]
  }
 ],
 "metadata": {
  "kernelspec": {
   "display_name": "Python 3 (ipykernel)",
   "language": "python",
   "name": "python3"
  },
  "language_info": {
   "codemirror_mode": {
    "name": "ipython",
    "version": 3
   },
   "file_extension": ".py",
   "mimetype": "text/x-python",
   "name": "python",
   "nbconvert_exporter": "python",
   "pygments_lexer": "ipython3",
   "version": "3.9.13"
  }
 },
 "nbformat": 4,
 "nbformat_minor": 5
}

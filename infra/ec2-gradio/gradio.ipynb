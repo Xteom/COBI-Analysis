{
 "cells": [
  {
   "cell_type": "code",
   "execution_count": 5,
   "metadata": {},
   "outputs": [
    {
     "name": "stdout",
     "output_type": "stream",
     "text": [
      "Especie a proyectar\n"
     ]
    },
    {
     "name": "stderr",
     "output_type": "stream",
     "text": [
      "06:44:30 - cmdstanpy - INFO - Chain [1] start processing\n",
      "06:44:30 - cmdstanpy - INFO - Chain [1] done processing\n"
     ]
    },
    {
     "name": "stdout",
     "output_type": "stream",
     "text": [
      "Numero de semanas desde hoy (una temporada típica tiene al rededor de 40 semanas)\n",
      "Kilogramos totales proyectados para las próximas 3 semanas desde 2023-05-26 06:44:39.439618\n",
      "754.1321731849588\n"
     ]
    }
   ],
   "source": [
    "#Immportamos los datos, reformateamos nombres y establecemos columnas \n",
    "import pandas as pd\n",
    "import numpy as np\n",
    "from datetime import datetime, timedelta\n",
    "from prophet import Prophet\n",
    "\n",
    "print(\"Especie a proyectar\")\n",
    "especie = \"abulón\" #input()\n",
    "\n",
    "if especie.lower() == \"abulón\":\n",
    "    datos = pd.read_csv(\"abulon.csv\")\n",
    "elif especie.lower() == \"langosta\":\n",
    "    datos = pd.read_csv(\"abreojos_langosta.csv\")\n",
    "\n",
    "datos.drop(\"Unnamed: 0\",axis=1,inplace=True)\n",
    "datos.rename(columns={\"FECHA AVISO\":\"ds\",\"PESO DESEMBARCADO\":\"y\"},inplace=True)\n",
    "datos[\"ds\"] = pd.to_datetime(datos[\"ds\"])\n",
    "    \n",
    "m = Prophet()\n",
    "m.fit(datos)\n",
    "\n",
    "print(\"Numero de semanas desde hoy (una temporada típica tiene al rededor de 40 semanas)\")\n",
    "periodos = int(input())\n",
    "future = m.make_future_dataframe(periodos,freq=\"W\")\n",
    "\n",
    "forecast = m.predict(future)\n",
    "forecast[\"yhat\"] = forecast[\"yhat\"].apply(lambda x: x if x>0 else 0)\n",
    "print(\"Kilogramos totales proyectados para las próximas {} semanas desde {}\".format(periodos,pd.to_datetime(\"today\")))\n",
    "print(forecast[\"yhat\"].tail(periodos).sum())\n",
    "\n",
    "def predict(periodos):\n",
    "    datos = pd.read_csv(\"abulon.csv\")\n",
    "    datos.drop(\"Unnamed: 0\",axis=1,inplace=True)\n",
    "    datos.rename(columns={\"FECHA AVISO\":\"ds\",\"PESO DESEMBARCADO\":\"y\"},inplace=True)\n",
    "    datos[\"ds\"] = pd.to_datetime(datos[\"ds\"])\n",
    "    m = Prophet()\n",
    "    m.fit(datos)\n",
    "    future = m.make_future_dataframe(periodos,freq=\"W\")\n",
    "    forecast = m.predict(future)\n",
    "    forecast[\"yhat\"] = forecast[\"yhat\"].apply(lambda x: x if x>0 else 0)\n",
    "    return forecast[\"yhat\"].tail(periodos).sum()"
   ]
  },
  {
   "cell_type": "code",
   "execution_count": 8,
   "metadata": {},
   "outputs": [
    {
     "ename": "ModuleNotFoundError",
     "evalue": "No module named 'PIL.ImageOps'",
     "output_type": "error",
     "traceback": [
      "\u001b[1;31m---------------------------------------------------------------------------\u001b[0m",
      "\u001b[1;31mModuleNotFoundError\u001b[0m                       Traceback (most recent call last)",
      "\u001b[1;32mo:\\itam\\COBI-Analysis\\infra\\ec2-gradio\\gradio.ipynb Cell 2\u001b[0m in \u001b[0;36m2\n\u001b[0;32m      <a href='vscode-notebook-cell:/o%3A/itam/COBI-Analysis/infra/ec2-gradio/gradio.ipynb#W1sZmlsZQ%3D%3D?line=0'>1</a>\u001b[0m \u001b[39mimport\u001b[39;00m \u001b[39mos\u001b[39;00m \n\u001b[1;32m----> <a href='vscode-notebook-cell:/o%3A/itam/COBI-Analysis/infra/ec2-gradio/gradio.ipynb#W1sZmlsZQ%3D%3D?line=1'>2</a>\u001b[0m \u001b[39mimport\u001b[39;00m \u001b[39mgradio\u001b[39;00m \u001b[39mas\u001b[39;00m \u001b[39mgr\u001b[39;00m\n\u001b[0;32m      <a href='vscode-notebook-cell:/o%3A/itam/COBI-Analysis/infra/ec2-gradio/gradio.ipynb#W1sZmlsZQ%3D%3D?line=5'>6</a>\u001b[0m \u001b[39mdef\u001b[39;00m \u001b[39mpredict\u001b[39m(date):\n\u001b[0;32m      <a href='vscode-notebook-cell:/o%3A/itam/COBI-Analysis/infra/ec2-gradio/gradio.ipynb#W1sZmlsZQ%3D%3D?line=6'>7</a>\u001b[0m     \u001b[39mreturn\u001b[39;00m m\u001b[39m.\u001b[39mpredict(date)\n",
      "File \u001b[1;32mc:\\Users\\mateo\\anaconda3\\envs\\itam\\lib\\site-packages\\gradio\\__init__.py:3\u001b[0m\n\u001b[0;32m      1\u001b[0m \u001b[39mimport\u001b[39;00m \u001b[39mpkgutil\u001b[39;00m\n\u001b[1;32m----> 3\u001b[0m \u001b[39mimport\u001b[39;00m \u001b[39mgradio\u001b[39;00m\u001b[39m.\u001b[39;00m\u001b[39mcomponents\u001b[39;00m \u001b[39mas\u001b[39;00m \u001b[39mcomponents\u001b[39;00m\n\u001b[0;32m      4\u001b[0m \u001b[39mimport\u001b[39;00m \u001b[39mgradio\u001b[39;00m\u001b[39m.\u001b[39;00m\u001b[39minputs\u001b[39;00m \u001b[39mas\u001b[39;00m \u001b[39minputs\u001b[39;00m\n\u001b[0;32m      5\u001b[0m \u001b[39mimport\u001b[39;00m \u001b[39mgradio\u001b[39;00m\u001b[39m.\u001b[39;00m\u001b[39moutputs\u001b[39;00m \u001b[39mas\u001b[39;00m \u001b[39moutputs\u001b[39;00m\n",
      "File \u001b[1;32mc:\\Users\\mateo\\anaconda3\\envs\\itam\\lib\\site-packages\\gradio\\components.py:30\u001b[0m\n\u001b[0;32m     28\u001b[0m \u001b[39mimport\u001b[39;00m \u001b[39mpandas\u001b[39;00m \u001b[39mas\u001b[39;00m \u001b[39mpd\u001b[39;00m\n\u001b[0;32m     29\u001b[0m \u001b[39mimport\u001b[39;00m \u001b[39mPIL\u001b[39;00m\n\u001b[1;32m---> 30\u001b[0m \u001b[39mimport\u001b[39;00m \u001b[39mPIL\u001b[39;00m\u001b[39m.\u001b[39;00m\u001b[39mImageOps\u001b[39;00m\n\u001b[0;32m     31\u001b[0m \u001b[39mimport\u001b[39;00m \u001b[39mrequests\u001b[39;00m\n\u001b[0;32m     32\u001b[0m \u001b[39mfrom\u001b[39;00m \u001b[39mfastapi\u001b[39;00m \u001b[39mimport\u001b[39;00m UploadFile\n",
      "\u001b[1;31mModuleNotFoundError\u001b[0m: No module named 'PIL.ImageOps'"
     ]
    }
   ],
   "source": [
    "import os \n",
    "import gradio as gr\n",
    "\n",
    "\n",
    "\n",
    "def predict(date):\n",
    "    return m.predict(date)\n",
    "\n",
    "app=gr.Interface(fn=predict, inputs=\"text\",outputs=\"text\",server_name=\"\").launch()\n",
    "app.launch()\n"
   ]
  },
  {
   "cell_type": "code",
   "execution_count": null,
   "metadata": {},
   "outputs": [],
   "source": []
  }
 ],
 "metadata": {
  "kernelspec": {
   "display_name": "itam",
   "language": "python",
   "name": "python3"
  },
  "language_info": {
   "codemirror_mode": {
    "name": "ipython",
    "version": 3
   },
   "file_extension": ".py",
   "mimetype": "text/x-python",
   "name": "python",
   "nbconvert_exporter": "python",
   "pygments_lexer": "ipython3",
   "version": "3.10.6"
  },
  "orig_nbformat": 4
 },
 "nbformat": 4,
 "nbformat_minor": 2
}
